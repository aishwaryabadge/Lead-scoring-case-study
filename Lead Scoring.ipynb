{
 "cells": [
  {
   "cell_type": "code",
   "execution_count": 1,
   "metadata": {},
   "outputs": [],
   "source": [
    "import pandas as pd\n",
    "import numpy as np\n",
    "import matplotlib.pyplot as plt\n",
    "import warnings\n",
    "import seaborn as sns"
   ]
  },
  {
   "cell_type": "code",
   "execution_count": 2,
   "metadata": {},
   "outputs": [],
   "source": [
    "warnings.filterwarnings(\"ignore\")"
   ]
  },
  {
   "cell_type": "markdown",
   "metadata": {},
   "source": [
    "# Import and Inspect of data"
   ]
  },
  {
   "cell_type": "code",
   "execution_count": 3,
   "metadata": {},
   "outputs": [
    {
     "data": {
      "text/html": [
       "<div>\n",
       "<style scoped>\n",
       "    .dataframe tbody tr th:only-of-type {\n",
       "        vertical-align: middle;\n",
       "    }\n",
       "\n",
       "    .dataframe tbody tr th {\n",
       "        vertical-align: top;\n",
       "    }\n",
       "\n",
       "    .dataframe thead th {\n",
       "        text-align: right;\n",
       "    }\n",
       "</style>\n",
       "<table border=\"1\" class=\"dataframe\">\n",
       "  <thead>\n",
       "    <tr style=\"text-align: right;\">\n",
       "      <th></th>\n",
       "      <th>Prospect ID</th>\n",
       "      <th>Lead Number</th>\n",
       "      <th>Lead Origin</th>\n",
       "      <th>Lead Source</th>\n",
       "      <th>Do Not Email</th>\n",
       "      <th>Do Not Call</th>\n",
       "      <th>Converted</th>\n",
       "      <th>TotalVisits</th>\n",
       "      <th>Total Time Spent on Website</th>\n",
       "      <th>Page Views Per Visit</th>\n",
       "      <th>...</th>\n",
       "      <th>Get updates on DM Content</th>\n",
       "      <th>Lead Profile</th>\n",
       "      <th>City</th>\n",
       "      <th>Asymmetrique Activity Index</th>\n",
       "      <th>Asymmetrique Profile Index</th>\n",
       "      <th>Asymmetrique Activity Score</th>\n",
       "      <th>Asymmetrique Profile Score</th>\n",
       "      <th>I agree to pay the amount through cheque</th>\n",
       "      <th>A free copy of Mastering The Interview</th>\n",
       "      <th>Last Notable Activity</th>\n",
       "    </tr>\n",
       "  </thead>\n",
       "  <tbody>\n",
       "    <tr>\n",
       "      <th>0</th>\n",
       "      <td>7927b2df-8bba-4d29-b9a2-b6e0beafe620</td>\n",
       "      <td>660737</td>\n",
       "      <td>API</td>\n",
       "      <td>Olark Chat</td>\n",
       "      <td>No</td>\n",
       "      <td>No</td>\n",
       "      <td>0</td>\n",
       "      <td>0.0</td>\n",
       "      <td>0</td>\n",
       "      <td>0.0</td>\n",
       "      <td>...</td>\n",
       "      <td>No</td>\n",
       "      <td>Select</td>\n",
       "      <td>Select</td>\n",
       "      <td>02.Medium</td>\n",
       "      <td>02.Medium</td>\n",
       "      <td>15.0</td>\n",
       "      <td>15.0</td>\n",
       "      <td>No</td>\n",
       "      <td>No</td>\n",
       "      <td>Modified</td>\n",
       "    </tr>\n",
       "    <tr>\n",
       "      <th>1</th>\n",
       "      <td>2a272436-5132-4136-86fa-dcc88c88f482</td>\n",
       "      <td>660728</td>\n",
       "      <td>API</td>\n",
       "      <td>Organic Search</td>\n",
       "      <td>No</td>\n",
       "      <td>No</td>\n",
       "      <td>0</td>\n",
       "      <td>5.0</td>\n",
       "      <td>674</td>\n",
       "      <td>2.5</td>\n",
       "      <td>...</td>\n",
       "      <td>No</td>\n",
       "      <td>Select</td>\n",
       "      <td>Select</td>\n",
       "      <td>02.Medium</td>\n",
       "      <td>02.Medium</td>\n",
       "      <td>15.0</td>\n",
       "      <td>15.0</td>\n",
       "      <td>No</td>\n",
       "      <td>No</td>\n",
       "      <td>Email Opened</td>\n",
       "    </tr>\n",
       "    <tr>\n",
       "      <th>2</th>\n",
       "      <td>8cc8c611-a219-4f35-ad23-fdfd2656bd8a</td>\n",
       "      <td>660727</td>\n",
       "      <td>Landing Page Submission</td>\n",
       "      <td>Direct Traffic</td>\n",
       "      <td>No</td>\n",
       "      <td>No</td>\n",
       "      <td>1</td>\n",
       "      <td>2.0</td>\n",
       "      <td>1532</td>\n",
       "      <td>2.0</td>\n",
       "      <td>...</td>\n",
       "      <td>No</td>\n",
       "      <td>Potential Lead</td>\n",
       "      <td>Mumbai</td>\n",
       "      <td>02.Medium</td>\n",
       "      <td>01.High</td>\n",
       "      <td>14.0</td>\n",
       "      <td>20.0</td>\n",
       "      <td>No</td>\n",
       "      <td>Yes</td>\n",
       "      <td>Email Opened</td>\n",
       "    </tr>\n",
       "    <tr>\n",
       "      <th>3</th>\n",
       "      <td>0cc2df48-7cf4-4e39-9de9-19797f9b38cc</td>\n",
       "      <td>660719</td>\n",
       "      <td>Landing Page Submission</td>\n",
       "      <td>Direct Traffic</td>\n",
       "      <td>No</td>\n",
       "      <td>No</td>\n",
       "      <td>0</td>\n",
       "      <td>1.0</td>\n",
       "      <td>305</td>\n",
       "      <td>1.0</td>\n",
       "      <td>...</td>\n",
       "      <td>No</td>\n",
       "      <td>Select</td>\n",
       "      <td>Mumbai</td>\n",
       "      <td>02.Medium</td>\n",
       "      <td>01.High</td>\n",
       "      <td>13.0</td>\n",
       "      <td>17.0</td>\n",
       "      <td>No</td>\n",
       "      <td>No</td>\n",
       "      <td>Modified</td>\n",
       "    </tr>\n",
       "    <tr>\n",
       "      <th>4</th>\n",
       "      <td>3256f628-e534-4826-9d63-4a8b88782852</td>\n",
       "      <td>660681</td>\n",
       "      <td>Landing Page Submission</td>\n",
       "      <td>Google</td>\n",
       "      <td>No</td>\n",
       "      <td>No</td>\n",
       "      <td>1</td>\n",
       "      <td>2.0</td>\n",
       "      <td>1428</td>\n",
       "      <td>1.0</td>\n",
       "      <td>...</td>\n",
       "      <td>No</td>\n",
       "      <td>Select</td>\n",
       "      <td>Mumbai</td>\n",
       "      <td>02.Medium</td>\n",
       "      <td>01.High</td>\n",
       "      <td>15.0</td>\n",
       "      <td>18.0</td>\n",
       "      <td>No</td>\n",
       "      <td>No</td>\n",
       "      <td>Modified</td>\n",
       "    </tr>\n",
       "  </tbody>\n",
       "</table>\n",
       "<p>5 rows × 37 columns</p>\n",
       "</div>"
      ],
      "text/plain": [
       "                            Prospect ID  Lead Number              Lead Origin  \\\n",
       "0  7927b2df-8bba-4d29-b9a2-b6e0beafe620       660737                      API   \n",
       "1  2a272436-5132-4136-86fa-dcc88c88f482       660728                      API   \n",
       "2  8cc8c611-a219-4f35-ad23-fdfd2656bd8a       660727  Landing Page Submission   \n",
       "3  0cc2df48-7cf4-4e39-9de9-19797f9b38cc       660719  Landing Page Submission   \n",
       "4  3256f628-e534-4826-9d63-4a8b88782852       660681  Landing Page Submission   \n",
       "\n",
       "      Lead Source Do Not Email Do Not Call  Converted  TotalVisits  \\\n",
       "0      Olark Chat           No          No          0          0.0   \n",
       "1  Organic Search           No          No          0          5.0   \n",
       "2  Direct Traffic           No          No          1          2.0   \n",
       "3  Direct Traffic           No          No          0          1.0   \n",
       "4          Google           No          No          1          2.0   \n",
       "\n",
       "   Total Time Spent on Website  Page Views Per Visit  ...  \\\n",
       "0                            0                   0.0  ...   \n",
       "1                          674                   2.5  ...   \n",
       "2                         1532                   2.0  ...   \n",
       "3                          305                   1.0  ...   \n",
       "4                         1428                   1.0  ...   \n",
       "\n",
       "  Get updates on DM Content    Lead Profile    City  \\\n",
       "0                        No          Select  Select   \n",
       "1                        No          Select  Select   \n",
       "2                        No  Potential Lead  Mumbai   \n",
       "3                        No          Select  Mumbai   \n",
       "4                        No          Select  Mumbai   \n",
       "\n",
       "  Asymmetrique Activity Index Asymmetrique Profile Index  \\\n",
       "0                   02.Medium                  02.Medium   \n",
       "1                   02.Medium                  02.Medium   \n",
       "2                   02.Medium                    01.High   \n",
       "3                   02.Medium                    01.High   \n",
       "4                   02.Medium                    01.High   \n",
       "\n",
       "  Asymmetrique Activity Score Asymmetrique Profile Score  \\\n",
       "0                        15.0                       15.0   \n",
       "1                        15.0                       15.0   \n",
       "2                        14.0                       20.0   \n",
       "3                        13.0                       17.0   \n",
       "4                        15.0                       18.0   \n",
       "\n",
       "  I agree to pay the amount through cheque  \\\n",
       "0                                       No   \n",
       "1                                       No   \n",
       "2                                       No   \n",
       "3                                       No   \n",
       "4                                       No   \n",
       "\n",
       "  A free copy of Mastering The Interview Last Notable Activity  \n",
       "0                                     No              Modified  \n",
       "1                                     No          Email Opened  \n",
       "2                                    Yes          Email Opened  \n",
       "3                                     No              Modified  \n",
       "4                                     No              Modified  \n",
       "\n",
       "[5 rows x 37 columns]"
      ]
     },
     "execution_count": 3,
     "metadata": {},
     "output_type": "execute_result"
    }
   ],
   "source": [
    "leads_df = pd.read_csv(\"Leads.csv\")\n",
    "leads_df.head()"
   ]
  },
  {
   "cell_type": "markdown",
   "metadata": {},
   "source": [
    "### Shape:"
   ]
  },
  {
   "cell_type": "code",
   "execution_count": 4,
   "metadata": {},
   "outputs": [
    {
     "data": {
      "text/plain": [
       "(9240, 37)"
      ]
     },
     "execution_count": 4,
     "metadata": {},
     "output_type": "execute_result"
    }
   ],
   "source": [
    "original_shape = leads_df.shape\n",
    "original_shape"
   ]
  },
  {
   "cell_type": "markdown",
   "metadata": {},
   "source": [
    "### Dtype and Count info : "
   ]
  },
  {
   "cell_type": "code",
   "execution_count": 5,
   "metadata": {},
   "outputs": [
    {
     "name": "stdout",
     "output_type": "stream",
     "text": [
      "<class 'pandas.core.frame.DataFrame'>\n",
      "RangeIndex: 9240 entries, 0 to 9239\n",
      "Data columns (total 37 columns):\n",
      " #   Column                                         Non-Null Count  Dtype  \n",
      "---  ------                                         --------------  -----  \n",
      " 0   Prospect ID                                    9240 non-null   object \n",
      " 1   Lead Number                                    9240 non-null   int64  \n",
      " 2   Lead Origin                                    9240 non-null   object \n",
      " 3   Lead Source                                    9204 non-null   object \n",
      " 4   Do Not Email                                   9240 non-null   object \n",
      " 5   Do Not Call                                    9240 non-null   object \n",
      " 6   Converted                                      9240 non-null   int64  \n",
      " 7   TotalVisits                                    9103 non-null   float64\n",
      " 8   Total Time Spent on Website                    9240 non-null   int64  \n",
      " 9   Page Views Per Visit                           9103 non-null   float64\n",
      " 10  Last Activity                                  9137 non-null   object \n",
      " 11  Country                                        6779 non-null   object \n",
      " 12  Specialization                                 7802 non-null   object \n",
      " 13  How did you hear about X Education             7033 non-null   object \n",
      " 14  What is your current occupation                6550 non-null   object \n",
      " 15  What matters most to you in choosing a course  6531 non-null   object \n",
      " 16  Search                                         9240 non-null   object \n",
      " 17  Magazine                                       9240 non-null   object \n",
      " 18  Newspaper Article                              9240 non-null   object \n",
      " 19  X Education Forums                             9240 non-null   object \n",
      " 20  Newspaper                                      9240 non-null   object \n",
      " 21  Digital Advertisement                          9240 non-null   object \n",
      " 22  Through Recommendations                        9240 non-null   object \n",
      " 23  Receive More Updates About Our Courses         9240 non-null   object \n",
      " 24  Tags                                           5887 non-null   object \n",
      " 25  Lead Quality                                   4473 non-null   object \n",
      " 26  Update me on Supply Chain Content              9240 non-null   object \n",
      " 27  Get updates on DM Content                      9240 non-null   object \n",
      " 28  Lead Profile                                   6531 non-null   object \n",
      " 29  City                                           7820 non-null   object \n",
      " 30  Asymmetrique Activity Index                    5022 non-null   object \n",
      " 31  Asymmetrique Profile Index                     5022 non-null   object \n",
      " 32  Asymmetrique Activity Score                    5022 non-null   float64\n",
      " 33  Asymmetrique Profile Score                     5022 non-null   float64\n",
      " 34  I agree to pay the amount through cheque       9240 non-null   object \n",
      " 35  A free copy of Mastering The Interview         9240 non-null   object \n",
      " 36  Last Notable Activity                          9240 non-null   object \n",
      "dtypes: float64(4), int64(3), object(30)\n",
      "memory usage: 2.6+ MB\n"
     ]
    }
   ],
   "source": [
    "leads_df.info()"
   ]
  },
  {
   "cell_type": "markdown",
   "metadata": {},
   "source": [
    "## Summary statistics"
   ]
  },
  {
   "cell_type": "code",
   "execution_count": 6,
   "metadata": {},
   "outputs": [
    {
     "data": {
      "text/html": [
       "<div>\n",
       "<style scoped>\n",
       "    .dataframe tbody tr th:only-of-type {\n",
       "        vertical-align: middle;\n",
       "    }\n",
       "\n",
       "    .dataframe tbody tr th {\n",
       "        vertical-align: top;\n",
       "    }\n",
       "\n",
       "    .dataframe thead th {\n",
       "        text-align: right;\n",
       "    }\n",
       "</style>\n",
       "<table border=\"1\" class=\"dataframe\">\n",
       "  <thead>\n",
       "    <tr style=\"text-align: right;\">\n",
       "      <th></th>\n",
       "      <th>Lead Number</th>\n",
       "      <th>Converted</th>\n",
       "      <th>TotalVisits</th>\n",
       "      <th>Total Time Spent on Website</th>\n",
       "      <th>Page Views Per Visit</th>\n",
       "      <th>Asymmetrique Activity Score</th>\n",
       "      <th>Asymmetrique Profile Score</th>\n",
       "    </tr>\n",
       "  </thead>\n",
       "  <tbody>\n",
       "    <tr>\n",
       "      <th>count</th>\n",
       "      <td>9240.000000</td>\n",
       "      <td>9240.000000</td>\n",
       "      <td>9103.000000</td>\n",
       "      <td>9240.000000</td>\n",
       "      <td>9103.000000</td>\n",
       "      <td>5022.000000</td>\n",
       "      <td>5022.000000</td>\n",
       "    </tr>\n",
       "    <tr>\n",
       "      <th>mean</th>\n",
       "      <td>617188.435606</td>\n",
       "      <td>0.385390</td>\n",
       "      <td>3.445238</td>\n",
       "      <td>487.698268</td>\n",
       "      <td>2.362820</td>\n",
       "      <td>14.306252</td>\n",
       "      <td>16.344883</td>\n",
       "    </tr>\n",
       "    <tr>\n",
       "      <th>std</th>\n",
       "      <td>23405.995698</td>\n",
       "      <td>0.486714</td>\n",
       "      <td>4.854853</td>\n",
       "      <td>548.021466</td>\n",
       "      <td>2.161418</td>\n",
       "      <td>1.386694</td>\n",
       "      <td>1.811395</td>\n",
       "    </tr>\n",
       "    <tr>\n",
       "      <th>min</th>\n",
       "      <td>579533.000000</td>\n",
       "      <td>0.000000</td>\n",
       "      <td>0.000000</td>\n",
       "      <td>0.000000</td>\n",
       "      <td>0.000000</td>\n",
       "      <td>7.000000</td>\n",
       "      <td>11.000000</td>\n",
       "    </tr>\n",
       "    <tr>\n",
       "      <th>25%</th>\n",
       "      <td>596484.500000</td>\n",
       "      <td>0.000000</td>\n",
       "      <td>1.000000</td>\n",
       "      <td>12.000000</td>\n",
       "      <td>1.000000</td>\n",
       "      <td>14.000000</td>\n",
       "      <td>15.000000</td>\n",
       "    </tr>\n",
       "    <tr>\n",
       "      <th>50%</th>\n",
       "      <td>615479.000000</td>\n",
       "      <td>0.000000</td>\n",
       "      <td>3.000000</td>\n",
       "      <td>248.000000</td>\n",
       "      <td>2.000000</td>\n",
       "      <td>14.000000</td>\n",
       "      <td>16.000000</td>\n",
       "    </tr>\n",
       "    <tr>\n",
       "      <th>75%</th>\n",
       "      <td>637387.250000</td>\n",
       "      <td>1.000000</td>\n",
       "      <td>5.000000</td>\n",
       "      <td>936.000000</td>\n",
       "      <td>3.000000</td>\n",
       "      <td>15.000000</td>\n",
       "      <td>18.000000</td>\n",
       "    </tr>\n",
       "    <tr>\n",
       "      <th>max</th>\n",
       "      <td>660737.000000</td>\n",
       "      <td>1.000000</td>\n",
       "      <td>251.000000</td>\n",
       "      <td>2272.000000</td>\n",
       "      <td>55.000000</td>\n",
       "      <td>18.000000</td>\n",
       "      <td>20.000000</td>\n",
       "    </tr>\n",
       "  </tbody>\n",
       "</table>\n",
       "</div>"
      ],
      "text/plain": [
       "         Lead Number    Converted  TotalVisits  Total Time Spent on Website  \\\n",
       "count    9240.000000  9240.000000  9103.000000                  9240.000000   \n",
       "mean   617188.435606     0.385390     3.445238                   487.698268   \n",
       "std     23405.995698     0.486714     4.854853                   548.021466   \n",
       "min    579533.000000     0.000000     0.000000                     0.000000   \n",
       "25%    596484.500000     0.000000     1.000000                    12.000000   \n",
       "50%    615479.000000     0.000000     3.000000                   248.000000   \n",
       "75%    637387.250000     1.000000     5.000000                   936.000000   \n",
       "max    660737.000000     1.000000   251.000000                  2272.000000   \n",
       "\n",
       "       Page Views Per Visit  Asymmetrique Activity Score  \\\n",
       "count           9103.000000                  5022.000000   \n",
       "mean               2.362820                    14.306252   \n",
       "std                2.161418                     1.386694   \n",
       "min                0.000000                     7.000000   \n",
       "25%                1.000000                    14.000000   \n",
       "50%                2.000000                    14.000000   \n",
       "75%                3.000000                    15.000000   \n",
       "max               55.000000                    18.000000   \n",
       "\n",
       "       Asymmetrique Profile Score  \n",
       "count                 5022.000000  \n",
       "mean                    16.344883  \n",
       "std                      1.811395  \n",
       "min                     11.000000  \n",
       "25%                     15.000000  \n",
       "50%                     16.000000  \n",
       "75%                     18.000000  \n",
       "max                     20.000000  "
      ]
     },
     "execution_count": 6,
     "metadata": {},
     "output_type": "execute_result"
    }
   ],
   "source": [
    "leads_df.describe()"
   ]
  },
  {
   "cell_type": "markdown",
   "metadata": {},
   "source": [
    "# Data cleaning and Preparation"
   ]
  },
  {
   "cell_type": "markdown",
   "metadata": {},
   "source": [
    "## Replace all `Select` values with `NaN`"
   ]
  },
  {
   "cell_type": "code",
   "execution_count": 7,
   "metadata": {},
   "outputs": [
    {
     "data": {
      "text/plain": [
       "Prospect ID                                         0\n",
       "Lead Number                                         0\n",
       "Lead Origin                                         0\n",
       "Lead Source                                         0\n",
       "Do Not Email                                        0\n",
       "Do Not Call                                         0\n",
       "Converted                                           0\n",
       "TotalVisits                                         0\n",
       "Total Time Spent on Website                         0\n",
       "Page Views Per Visit                                0\n",
       "Last Activity                                       0\n",
       "Country                                             0\n",
       "Specialization                                   1942\n",
       "How did you hear about X Education               5043\n",
       "What is your current occupation                     0\n",
       "What matters most to you in choosing a course       0\n",
       "Search                                              0\n",
       "Magazine                                            0\n",
       "Newspaper Article                                   0\n",
       "X Education Forums                                  0\n",
       "Newspaper                                           0\n",
       "Digital Advertisement                               0\n",
       "Through Recommendations                             0\n",
       "Receive More Updates About Our Courses              0\n",
       "Tags                                                0\n",
       "Lead Quality                                        0\n",
       "Update me on Supply Chain Content                   0\n",
       "Get updates on DM Content                           0\n",
       "Lead Profile                                     4146\n",
       "City                                             2249\n",
       "Asymmetrique Activity Index                         0\n",
       "Asymmetrique Profile Index                          0\n",
       "Asymmetrique Activity Score                         0\n",
       "Asymmetrique Profile Score                          0\n",
       "I agree to pay the amount through cheque            0\n",
       "A free copy of Mastering The Interview              0\n",
       "Last Notable Activity                               0\n",
       "dtype: int64"
      ]
     },
     "execution_count": 7,
     "metadata": {},
     "output_type": "execute_result"
    }
   ],
   "source": [
    "(leads_df == \"Select\").sum()"
   ]
  },
  {
   "cell_type": "code",
   "execution_count": 8,
   "metadata": {},
   "outputs": [],
   "source": [
    "leads_df.replace(\"Select\",np.nan,inplace=True)"
   ]
  },
  {
   "cell_type": "markdown",
   "metadata": {},
   "source": [
    "## Check for null values"
   ]
  },
  {
   "cell_type": "code",
   "execution_count": 9,
   "metadata": {},
   "outputs": [
    {
     "data": {
      "text/plain": [
       "Prospect ID                                        0.0%\n",
       "Lead Number                                        0.0%\n",
       "Lead Origin                                        0.0%\n",
       "Lead Source                                       0.39%\n",
       "Do Not Email                                       0.0%\n",
       "Do Not Call                                        0.0%\n",
       "Converted                                          0.0%\n",
       "TotalVisits                                       1.48%\n",
       "Total Time Spent on Website                        0.0%\n",
       "Page Views Per Visit                              1.48%\n",
       "Last Activity                                     1.11%\n",
       "Country                                          26.63%\n",
       "Specialization                                   36.58%\n",
       "How did you hear about X Education               78.46%\n",
       "What is your current occupation                  29.11%\n",
       "What matters most to you in choosing a course    29.32%\n",
       "Search                                             0.0%\n",
       "Magazine                                           0.0%\n",
       "Newspaper Article                                  0.0%\n",
       "X Education Forums                                 0.0%\n",
       "Newspaper                                          0.0%\n",
       "Digital Advertisement                              0.0%\n",
       "Through Recommendations                            0.0%\n",
       "Receive More Updates About Our Courses             0.0%\n",
       "Tags                                             36.29%\n",
       "Lead Quality                                     51.59%\n",
       "Update me on Supply Chain Content                  0.0%\n",
       "Get updates on DM Content                          0.0%\n",
       "Lead Profile                                     74.19%\n",
       "City                                             39.71%\n",
       "Asymmetrique Activity Index                      45.65%\n",
       "Asymmetrique Profile Index                       45.65%\n",
       "Asymmetrique Activity Score                      45.65%\n",
       "Asymmetrique Profile Score                       45.65%\n",
       "I agree to pay the amount through cheque           0.0%\n",
       "A free copy of Mastering The Interview             0.0%\n",
       "Last Notable Activity                              0.0%\n",
       "dtype: object"
      ]
     },
     "execution_count": 9,
     "metadata": {},
     "output_type": "execute_result"
    }
   ],
   "source": [
    "round(leads_df.isnull().mean()*100,2).astype(\"str\")+\"%\""
   ]
  },
  {
   "cell_type": "markdown",
   "metadata": {},
   "source": [
    "### Drop columns with more than 40% of missing values"
   ]
  },
  {
   "cell_type": "code",
   "execution_count": 10,
   "metadata": {},
   "outputs": [
    {
     "data": {
      "text/plain": [
       "Index(['How did you hear about X Education', 'Lead Quality', 'Lead Profile',\n",
       "       'Asymmetrique Activity Index', 'Asymmetrique Profile Index',\n",
       "       'Asymmetrique Activity Score', 'Asymmetrique Profile Score'],\n",
       "      dtype='object')"
      ]
     },
     "execution_count": 10,
     "metadata": {},
     "output_type": "execute_result"
    }
   ],
   "source": [
    "leads_df.loc[:,leads_df.isnull().mean()>=0.40].columns"
   ]
  },
  {
   "cell_type": "code",
   "execution_count": 11,
   "metadata": {},
   "outputs": [],
   "source": [
    "leads_df = leads_df.loc[:,leads_df.isnull().mean()<0.40]"
   ]
  },
  {
   "cell_type": "markdown",
   "metadata": {},
   "source": [
    "## Skewness of categorical variables"
   ]
  },
  {
   "cell_type": "markdown",
   "metadata": {},
   "source": [
    "Following snippet returns the columns that are highly skewed"
   ]
  },
  {
   "cell_type": "code",
   "execution_count": 12,
   "metadata": {},
   "outputs": [
    {
     "data": {
      "text/plain": [
       "Index(['Do Not Call', 'What matters most to you in choosing a course',\n",
       "       'Search', 'Magazine', 'Newspaper Article', 'X Education Forums',\n",
       "       'Newspaper', 'Digital Advertisement', 'Through Recommendations',\n",
       "       'Receive More Updates About Our Courses',\n",
       "       'Update me on Supply Chain Content', 'Get updates on DM Content',\n",
       "       'I agree to pay the amount through cheque'],\n",
       "      dtype='object')"
      ]
     },
     "execution_count": 12,
     "metadata": {},
     "output_type": "execute_result"
    }
   ],
   "source": [
    "skewed_cols = np.array([np.any(leads_df[col].value_counts(normalize = True)>=0.99) for col in leads_df.columns])\n",
    "leads_df.loc[:,skewed_cols].columns"
   ]
  },
  {
   "cell_type": "markdown",
   "metadata": {},
   "source": [
    "### Remove the columns that are highly skewed"
   ]
  },
  {
   "cell_type": "code",
   "execution_count": 13,
   "metadata": {},
   "outputs": [],
   "source": [
    "leads_df = leads_df.loc[:,~skewed_cols]"
   ]
  },
  {
   "cell_type": "markdown",
   "metadata": {},
   "source": [
    "### Remove ID columns like prospect ID and Lead Number"
   ]
  },
  {
   "cell_type": "code",
   "execution_count": 14,
   "metadata": {},
   "outputs": [],
   "source": [
    "leads_df.drop(columns=[\"Prospect ID\",\"Lead Number\"],inplace=True)"
   ]
  },
  {
   "cell_type": "markdown",
   "metadata": {},
   "source": [
    "### Remove Sales team generated columns like Tags, Last Activity and Last Notable Activity"
   ]
  },
  {
   "cell_type": "code",
   "execution_count": 15,
   "metadata": {},
   "outputs": [],
   "source": [
    "leads_df.drop(columns=[\"Tags\",\"Last Activity\",\"Last Notable Activity\"],inplace=True)"
   ]
  },
  {
   "cell_type": "markdown",
   "metadata": {},
   "source": [
    "## Impute Null values"
   ]
  },
  {
   "cell_type": "code",
   "execution_count": 16,
   "metadata": {},
   "outputs": [
    {
     "data": {
      "text/plain": [
       "Lead Origin                                  0\n",
       "Lead Source                                 36\n",
       "Do Not Email                                 0\n",
       "Converted                                    0\n",
       "TotalVisits                                137\n",
       "Total Time Spent on Website                  0\n",
       "Page Views Per Visit                       137\n",
       "Country                                   2461\n",
       "Specialization                            3380\n",
       "What is your current occupation           2690\n",
       "City                                      3669\n",
       "A free copy of Mastering The Interview       0\n",
       "dtype: int64"
      ]
     },
     "execution_count": 16,
     "metadata": {},
     "output_type": "execute_result"
    }
   ],
   "source": [
    "leads_df.isnull().sum()"
   ]
  },
  {
   "cell_type": "code",
   "execution_count": 17,
   "metadata": {},
   "outputs": [],
   "source": [
    "leads_df.fillna({\"Specialization\":leads_df['Specialization'].mode()[0],\n",
    "                \"What is your current occupation\":\"Other\",\n",
    "                \"City\":leads_df[\"City\"].mode()[0],\n",
    "                \"Page Views Per Visit\":leads_df[\"Page Views Per Visit\"].median(),\n",
    "                \"TotalVisits\":leads_df[\"TotalVisits\"].median(),\n",
    "                \"Lead Source\":leads_df[\"Lead Source\"].mode()[0],\n",
    "                \"Country\":leads_df[\"Country\"].mode()[0]}, inplace= True)"
   ]
  },
  {
   "cell_type": "code",
   "execution_count": 18,
   "metadata": {},
   "outputs": [
    {
     "name": "stdout",
     "output_type": "stream",
     "text": [
      "<class 'pandas.core.frame.DataFrame'>\n",
      "RangeIndex: 9240 entries, 0 to 9239\n",
      "Data columns (total 12 columns):\n",
      " #   Column                                  Non-Null Count  Dtype  \n",
      "---  ------                                  --------------  -----  \n",
      " 0   Lead Origin                             9240 non-null   object \n",
      " 1   Lead Source                             9240 non-null   object \n",
      " 2   Do Not Email                            9240 non-null   object \n",
      " 3   Converted                               9240 non-null   int64  \n",
      " 4   TotalVisits                             9240 non-null   float64\n",
      " 5   Total Time Spent on Website             9240 non-null   int64  \n",
      " 6   Page Views Per Visit                    9240 non-null   float64\n",
      " 7   Country                                 9240 non-null   object \n",
      " 8   Specialization                          9240 non-null   object \n",
      " 9   What is your current occupation         9240 non-null   object \n",
      " 10  City                                    9240 non-null   object \n",
      " 11  A free copy of Mastering The Interview  9240 non-null   object \n",
      "dtypes: float64(2), int64(2), object(8)\n",
      "memory usage: 866.4+ KB\n"
     ]
    }
   ],
   "source": [
    "leads_df.info()"
   ]
  },
  {
   "cell_type": "markdown",
   "metadata": {},
   "source": [
    "## Combine levels with very less count"
   ]
  },
  {
   "cell_type": "code",
   "execution_count": 19,
   "metadata": {},
   "outputs": [
    {
     "data": {
      "text/plain": [
       "Landing Page Submission    0.528788\n",
       "API                        0.387446\n",
       "Lead Add Form              0.077706\n",
       "Lead Import                0.005952\n",
       "Quick Add Form             0.000108\n",
       "Name: Lead Origin, dtype: float64"
      ]
     },
     "execution_count": 19,
     "metadata": {},
     "output_type": "execute_result"
    }
   ],
   "source": [
    "leads_df[\"Lead Origin\"].value_counts(normalize=True)"
   ]
  },
  {
   "cell_type": "code",
   "execution_count": 20,
   "metadata": {},
   "outputs": [],
   "source": [
    "leads_df[\"Lead Origin\"].replace([\"Lead Add Form\",\"Lead Import\",\"Quick Add Form\"],\"Other\",inplace=True)"
   ]
  },
  {
   "cell_type": "code",
   "execution_count": 21,
   "metadata": {},
   "outputs": [
    {
     "data": {
      "text/plain": [
       "Google               0.314286\n",
       "Direct Traffic       0.275216\n",
       "Olark Chat           0.189935\n",
       "Organic Search       0.124892\n",
       "Reference            0.057792\n",
       "Welingak Website     0.015368\n",
       "Referral Sites       0.013528\n",
       "Facebook             0.005952\n",
       "bing                 0.000649\n",
       "google               0.000541\n",
       "Click2call           0.000433\n",
       "Social Media         0.000216\n",
       "Live Chat            0.000216\n",
       "Press_Release        0.000216\n",
       "welearnblog_Home     0.000108\n",
       "testone              0.000108\n",
       "Pay per Click Ads    0.000108\n",
       "WeLearn              0.000108\n",
       "NC_EDM               0.000108\n",
       "youtubechannel       0.000108\n",
       "blog                 0.000108\n",
       "Name: Lead Source, dtype: float64"
      ]
     },
     "execution_count": 21,
     "metadata": {},
     "output_type": "execute_result"
    }
   ],
   "source": [
    "leads_df[\"Lead Source\"].value_counts(normalize=True)"
   ]
  },
  {
   "cell_type": "code",
   "execution_count": 22,
   "metadata": {},
   "outputs": [],
   "source": [
    "leads_df[\"Lead Source\"].replace([\n",
    "       'Welingak Website', 'Referral Sites', 'Facebook', 'Click2call',\n",
    "       'google', 'bing', 'Press_Release', 'Social Media', 'Live Chat',\n",
    "       'youtubechannel', 'WeLearn', 'NC_EDM', 'welearnblog_Home',\n",
    "       'Pay per Click Ads', 'testone', 'blog'], \"Other\",inplace = True)"
   ]
  },
  {
   "cell_type": "code",
   "execution_count": 23,
   "metadata": {},
   "outputs": [
    {
     "data": {
      "text/plain": [
       "Finance Management                   0.471429\n",
       "Human Resource Management            0.091775\n",
       "Marketing Management                 0.090693\n",
       "Operations Management                0.054437\n",
       "Business Administration              0.043615\n",
       "IT Projects Management               0.039610\n",
       "Supply Chain Management              0.037771\n",
       "Banking, Investment And Insurance    0.036580\n",
       "Travel and Tourism                   0.021970\n",
       "Media and Advertising                0.021970\n",
       "International Business               0.019264\n",
       "Healthcare Management                0.017208\n",
       "Hospitality Management               0.012338\n",
       "E-COMMERCE                           0.012121\n",
       "Retail Management                    0.010823\n",
       "Rural and Agribusiness               0.007900\n",
       "E-Business                           0.006169\n",
       "Services Excellence                  0.004329\n",
       "Name: Specialization, dtype: float64"
      ]
     },
     "execution_count": 23,
     "metadata": {},
     "output_type": "execute_result"
    }
   ],
   "source": [
    "leads_df[\"Specialization\"].value_counts(normalize=True)"
   ]
  },
  {
   "cell_type": "code",
   "execution_count": 24,
   "metadata": {},
   "outputs": [],
   "source": [
    "leads_df[\"Specialization\"].replace(['IT Projects Management',\n",
    "       'Supply Chain Management', 'Banking, Investment And Insurance',\n",
    "       'Media and Advertising', 'Travel and Tourism', 'International Business',\n",
    "       'Healthcare Management', 'Hospitality Management', 'E-COMMERCE',\n",
    "       'Retail Management', 'Rural and Agribusiness', 'E-Business',\n",
    "       'Services Excellence'],\"Other\",inplace = True)"
   ]
  },
  {
   "cell_type": "code",
   "execution_count": 25,
   "metadata": {},
   "outputs": [
    {
     "data": {
      "text/plain": [
       "Unemployed              0.606061\n",
       "Other                   0.292857\n",
       "Working Professional    0.076407\n",
       "Student                 0.022727\n",
       "Housewife               0.001082\n",
       "Businessman             0.000866\n",
       "Name: What is your current occupation, dtype: float64"
      ]
     },
     "execution_count": 25,
     "metadata": {},
     "output_type": "execute_result"
    }
   ],
   "source": [
    "leads_df[\"What is your current occupation\"].value_counts(normalize = True)"
   ]
  },
  {
   "cell_type": "code",
   "execution_count": 26,
   "metadata": {},
   "outputs": [],
   "source": [
    "leads_df[\"What is your current occupation\"].replace(['Student', 'Housewife',\n",
    "       'Businessman'],\"Other\", inplace = True)"
   ]
  },
  {
   "cell_type": "code",
   "execution_count": 27,
   "metadata": {},
   "outputs": [
    {
     "data": {
      "text/plain": [
       "Mumbai                         0.745779\n",
       "Thane & Outskirts              0.081385\n",
       "Other Cities                   0.074242\n",
       "Other Cities of Maharashtra    0.049459\n",
       "Other Metro Cities             0.041126\n",
       "Tier II Cities                 0.008009\n",
       "Name: City, dtype: float64"
      ]
     },
     "execution_count": 27,
     "metadata": {},
     "output_type": "execute_result"
    }
   ],
   "source": [
    "leads_df[\"City\"].value_counts(normalize = True)"
   ]
  },
  {
   "cell_type": "code",
   "execution_count": 28,
   "metadata": {},
   "outputs": [],
   "source": [
    "leads_df[\"City\"].replace(['Other Cities',\n",
    "       'Other Cities of Maharashtra', 'Other Metro Cities', 'Tier II Cities'],\"Other\",inplace = True)"
   ]
  },
  {
   "cell_type": "code",
   "execution_count": 29,
   "metadata": {},
   "outputs": [
    {
     "data": {
      "text/plain": [
       "No     0.687446\n",
       "Yes    0.312554\n",
       "Name: A free copy of Mastering The Interview, dtype: float64"
      ]
     },
     "execution_count": 29,
     "metadata": {},
     "output_type": "execute_result"
    }
   ],
   "source": [
    "leads_df[\"A free copy of Mastering The Interview\"].value_counts(normalize = True)"
   ]
  },
  {
   "cell_type": "code",
   "execution_count": 30,
   "metadata": {},
   "outputs": [
    {
     "data": {
      "text/plain": [
       "India                   0.968939\n",
       "United States           0.007468\n",
       "United Arab Emirates    0.005736\n",
       "Singapore               0.002597\n",
       "Saudi Arabia            0.002273\n",
       "United Kingdom          0.001623\n",
       "Australia               0.001407\n",
       "Qatar                   0.001082\n",
       "Hong Kong               0.000758\n",
       "Bahrain                 0.000758\n",
       "Oman                    0.000649\n",
       "France                  0.000649\n",
       "unknown                 0.000541\n",
       "Nigeria                 0.000433\n",
       "South Africa            0.000433\n",
       "Kuwait                  0.000433\n",
       "Germany                 0.000433\n",
       "Canada                  0.000433\n",
       "Sweden                  0.000325\n",
       "Uganda                  0.000216\n",
       "Ghana                   0.000216\n",
       "Netherlands             0.000216\n",
       "Philippines             0.000216\n",
       "Belgium                 0.000216\n",
       "Asia/Pacific Region     0.000216\n",
       "Italy                   0.000216\n",
       "Bangladesh              0.000216\n",
       "China                   0.000216\n",
       "Indonesia               0.000108\n",
       "Sri Lanka               0.000108\n",
       "Liberia                 0.000108\n",
       "Malaysia                0.000108\n",
       "Vietnam                 0.000108\n",
       "Switzerland             0.000108\n",
       "Kenya                   0.000108\n",
       "Denmark                 0.000108\n",
       "Russia                  0.000108\n",
       "Tanzania                0.000108\n",
       "Name: Country, dtype: float64"
      ]
     },
     "execution_count": 30,
     "metadata": {},
     "output_type": "execute_result"
    }
   ],
   "source": [
    "leads_df[\"Country\"].value_counts(normalize = True)"
   ]
  },
  {
   "cell_type": "code",
   "execution_count": 31,
   "metadata": {},
   "outputs": [],
   "source": [
    "leads_df[\"Country\"].replace(['United States', 'United Arab Emirates', 'Singapore',\n",
    "       'Saudi Arabia', 'United Kingdom', 'Qatar', 'Australia', 'Bahrain',\n",
    "       'Oman', 'France', 'Hong Kong', 'Nigeria', 'Kuwait', 'unknown',\n",
    "       'South Africa', 'Canada', 'Germany', 'Uganda', 'Bangladesh', 'Ghana',\n",
    "       'Italy', 'China', 'Philippines', 'Asia/Pacific Region', 'Sweden',\n",
    "       'Belgium', 'Switzerland', 'Kenya', 'Liberia', 'Vietnam', 'Denmark',\n",
    "       'Russia', 'Malaysia', 'Netherlands', 'Tanzania'],\"Other\",inplace = True)"
   ]
  },
  {
   "cell_type": "markdown",
   "metadata": {},
   "source": [
    "## Handle Outliers"
   ]
  },
  {
   "cell_type": "code",
   "execution_count": 32,
   "metadata": {},
   "outputs": [
    {
     "data": {
      "image/png": "[encoded data removed]",
      "text/plain": [
       "<Figure size 2600x1040 with 3 Axes>"
      ]
     },
     "metadata": {
      "needs_background": "light"
     },
     "output_type": "display_data"
    }
   ],
   "source": [
    "num_features = [\"TotalVisits\",\"Total Time Spent on Website\",\"Page Views Per Visit\"]\n",
    "\n",
    "plt.figure(figsize=(20,8),dpi=130)\n",
    "plt.suptitle(\"Box plot for distribution of numerical features (fig-1)\",fontsize=20,y=0.93)\n",
    "for i,col_name in enumerate(num_features):\n",
    "    plt.subplot(1,3,i+1)\n",
    "    sns.boxplot(leads_df[col_name])\n",
    "plt.show()"
   ]
  },
  {
   "cell_type": "markdown",
   "metadata": {},
   "source": [
    "#### From fig-1 we can see that:\n",
    "- TotalVisits and Page Viewes Per Visit are having some outliers towards the outer ends.\n",
    "- As this count not very high we can drop these rows"
   ]
  },
  {
   "cell_type": "code",
   "execution_count": 33,
   "metadata": {},
   "outputs": [],
   "source": [
    "outer_limit = leads_df[\"TotalVisits\"].quantile(0.75)*1.5\n",
    "leads_df = leads_df[leads_df[\"TotalVisits\"]<outer_limit]"
   ]
  },
  {
   "cell_type": "code",
   "execution_count": 34,
   "metadata": {},
   "outputs": [],
   "source": [
    "outer_limit = leads_df[\"Page Views Per Visit\"].quantile(0.75)*1.5\n",
    "leads_df = leads_df[leads_df[\"Page Views Per Visit\"]<outer_limit]"
   ]
  },
  {
   "cell_type": "markdown",
   "metadata": {},
   "source": [
    "## Rows and Columns retained after cleaning"
   ]
  },
  {
   "cell_type": "code",
   "execution_count": 35,
   "metadata": {},
   "outputs": [
    {
     "name": "stdout",
     "output_type": "stream",
     "text": [
      "Rows retained : 81.72%\n",
      "Columns retained : 32.43%\n"
     ]
    },
    {
     "data": {
      "text/plain": [
       "(7551, 12)"
      ]
     },
     "execution_count": 35,
     "metadata": {},
     "output_type": "execute_result"
    }
   ],
   "source": [
    "print(\"Rows retained : \"+str(round(leads_df.shape[0]/original_shape[0]*100,2))+\"%\")\n",
    "print(\"Columns retained : \"+str(round(leads_df.shape[1]/original_shape[1]*100,2))+\"%\")\n",
    "leads_df.shape"
   ]
  },
  {
   "cell_type": "markdown",
   "metadata": {},
   "source": [
    "# EDA"
   ]
  },
  {
   "cell_type": "markdown",
   "metadata": {},
   "source": [
    "## Univariate Analysis"
   ]
  },
  {
   "cell_type": "code",
   "execution_count": 36,
   "metadata": {},
   "outputs": [
    {
     "data": {
      "image/png": "[encoded data removed]",
      "text/plain": [
       "<Figure size 2600x1040 with 3 Axes>"
      ]
     },
     "metadata": {
      "needs_background": "light"
     },
     "output_type": "display_data"
    }
   ],
   "source": [
    "plt.figure(figsize=(20,8),dpi=130)\n",
    "plt.suptitle(\"Distribution of numerical features (fig-2)\",fontsize=20,y=0.93)\n",
    "for i,col_name in enumerate(num_features):\n",
    "    plt.subplot(1,3,i+1)\n",
    "    sns.distplot(leads_df[col_name])\n",
    "plt.show()"
   ]
  },
  {
   "cell_type": "markdown",
   "metadata": {},
   "source": [
    "#### From fig-2 we can see that :\n",
    "- Customers who have not visited the website even once are the highest in numbers.\n",
    "- We can see two clusters of customers based on total times spent on webiste : 0 to 500 and 500 to 2000.\n",
    "- Pages viewed per visit is highly irregular"
   ]
  },
  {
   "cell_type": "code",
   "execution_count": 37,
   "metadata": {},
   "outputs": [
    {
     "data": {
      "image/png": "[encoded data removed]",
      "text/plain": [
       "<Figure size 1820x1560 with 9 Axes>"
      ]
     },
     "metadata": {
      "needs_background": "light"
     },
     "output_type": "display_data"
    }
   ],
   "source": [
    "cat_features = ['Lead Origin', 'Lead Source', 'Converted', 'Specialization',\n",
    "       'What is your current occupation', 'City',\n",
    "       'A free copy of Mastering The Interview',\"Do Not Email\",\"Country\"]\n",
    "plt.figure(figsize=(14,12),dpi=130)\n",
    "plt.suptitle(\"Distribution of categorical features (fig-3)\",fontsize=20, y= 1.03)\n",
    "for i,col_name in enumerate(cat_features):\n",
    "    plt.subplot(3,3,i+1,)\n",
    "    sns.countplot(leads_df[col_name])\n",
    "    plt.tight_layout()\n",
    "    plt.xticks(rotation=90)\n",
    "plt.show()"
   ]
  },
  {
   "cell_type": "markdown",
   "metadata": {},
   "source": [
    "#### From fig-3 we can see that:\n",
    "- <b>Lead Origin : </b>Major customers come from API and Landing Page Submissions and a very few customers have other origins.\n",
    "- <b>Lead Source : </b>Major customers come from Google searches and significant number of customers also come directly to the website. Very few customers come from other sources.\n",
    "- <b>Converted : </b>Majority of the customers in the dataset are not converted.\n",
    "- <b>Specialization : </b>Majority of the customers come from Financial Management specialization ad there are significant number of customers who come from other unlisted specializations.\n",
    "- <b>Current Occupation : </b>Majority of the customers are unemployed, there are a very few working professionals.And there are signiifcant number of customers with unlisted other occupations.\n",
    "- <b>City : </b> Majority of the customers come form Maumbai and there are very few customers from others places or cities.\n",
    "- <b>A free copy of Mastering The Interview : </b> Majority of the customers do not want a free copy of Mastering The Interview."
   ]
  },
  {
   "cell_type": "markdown",
   "metadata": {},
   "source": [
    "## Bivariate Analysis"
   ]
  },
  {
   "cell_type": "code",
   "execution_count": 38,
   "metadata": {},
   "outputs": [
    {
     "data": {
      "image/png": "[encoded data removed]",
      "text/plain": [
       "<Figure size 800x500 with 1 Axes>"
      ]
     },
     "metadata": {
      "needs_background": "light"
     },
     "output_type": "display_data"
    }
   ],
   "source": [
    "plt.figure(figsize=(8,5),dpi=100)\n",
    "plt.title(\"Distribution Do not Email in terms of conversion\")\n",
    "sns.countplot(data=leads_df,x=\"Do Not Email\",hue=\"Converted\")\n",
    "plt.show()"
   ]
  },
  {
   "cell_type": "markdown",
   "metadata": {},
   "source": [
    "- There are highest number of leads who have not enabled Do not Email"
   ]
  },
  {
   "cell_type": "code",
   "execution_count": 39,
   "metadata": {},
   "outputs": [
    {
     "data": {
      "image/png": "[encoded data removed]",
      "text/plain": [
       "<Figure size 800x500 with 1 Axes>"
      ]
     },
     "metadata": {
      "needs_background": "light"
     },
     "output_type": "display_data"
    }
   ],
   "source": [
    "plt.figure(figsize=(8,5),dpi=100)\n",
    "plt.title(\"Distribution Lead Source in terms of conversion\")\n",
    "sns.countplot(data=leads_df,x=\"Lead Source\",hue=\"Converted\")\n",
    "plt.show()"
   ]
  },
  {
   "cell_type": "markdown",
   "metadata": {},
   "source": [
    "#### From fig we can see that : \n",
    "- Although customers coming from google searches have a good conversion ratio but the conversion rate is the highest for the customers caoming from other unlisted sources."
   ]
  },
  {
   "cell_type": "code",
   "execution_count": 40,
   "metadata": {},
   "outputs": [
    {
     "data": {
      "image/png": "[encoded data removed]",
      "text/plain": [
       "<Figure size 800x500 with 1 Axes>"
      ]
     },
     "metadata": {
      "needs_background": "light"
     },
     "output_type": "display_data"
    }
   ],
   "source": [
    "plt.figure(figsize=(8,5),dpi=100)\n",
    "plt.title(\"Distribution Lead Origin in terms of conversion\")\n",
    "sns.countplot(data=leads_df,x=\"Lead Origin\",hue=\"Converted\")\n",
    "plt.show()"
   ]
  },
  {
   "cell_type": "markdown",
   "metadata": {},
   "source": [
    "#### From fig we can see that : \n",
    "- Customers coming from other unlisted origins have the highest conversion ratio."
   ]
  },
  {
   "cell_type": "code",
   "execution_count": 41,
   "metadata": {},
   "outputs": [
    {
     "data": {
      "image/png": "[encoded data removed]",
      "text/plain": [
       "<Figure size 800x500 with 1 Axes>"
      ]
     },
     "metadata": {
      "needs_background": "light"
     },
     "output_type": "display_data"
    }
   ],
   "source": [
    "plt.figure(figsize=(8,5),dpi=100)\n",
    "plt.title(\"Distribution Specialization in terms of conversion\")\n",
    "sns.countplot(data=leads_df,x=\"Specialization\",hue=\"Converted\")\n",
    "plt.xticks(rotation  = 90)\n",
    "plt.show()"
   ]
  },
  {
   "cell_type": "markdown",
   "metadata": {},
   "source": [
    "- Most of the leads come from Financial Management Specialization."
   ]
  },
  {
   "cell_type": "code",
   "execution_count": 42,
   "metadata": {},
   "outputs": [
    {
     "data": {
      "image/png": "[encoded data removed]",
      "text/plain": [
       "<Figure size 800x500 with 1 Axes>"
      ]
     },
     "metadata": {
      "needs_background": "light"
     },
     "output_type": "display_data"
    }
   ],
   "source": [
    "plt.figure(figsize=(8,5),dpi=100)\n",
    "plt.title(\"Distribution Current Occupation in terms of conversion\")\n",
    "sns.countplot(data=leads_df,x=\"What is your current occupation\",hue=\"Converted\")\n",
    "plt.show()"
   ]
  },
  {
   "cell_type": "markdown",
   "metadata": {},
   "source": [
    "- Working professionals have more conversion rate.\n",
    "- There are highest number of leads from unemployed."
   ]
  },
  {
   "cell_type": "code",
   "execution_count": 43,
   "metadata": {},
   "outputs": [
    {
     "data": {
      "image/png": "[encoded data removed]",
      "text/plain": [
       "<Figure size 800x500 with 1 Axes>"
      ]
     },
     "metadata": {
      "needs_background": "light"
     },
     "output_type": "display_data"
    }
   ],
   "source": [
    "plt.figure(figsize=(8,5),dpi=100)\n",
    "plt.title(\"Distribution City in terms of conversion\")\n",
    "sns.countplot(data=leads_df,x=\"City\",hue=\"Converted\")\n",
    "plt.show()"
   ]
  },
  {
   "cell_type": "markdown",
   "metadata": {},
   "source": [
    "- Mumbai has greater number of leads. "
   ]
  },
  {
   "cell_type": "code",
   "execution_count": 44,
   "metadata": {},
   "outputs": [
    {
     "data": {
      "image/png": "[encoded data removed]",
      "text/plain": [
       "<Figure size 800x500 with 1 Axes>"
      ]
     },
     "metadata": {
      "needs_background": "light"
     },
     "output_type": "display_data"
    }
   ],
   "source": [
    "plt.figure(figsize=(8,5),dpi=100)\n",
    "plt.title(\"Distribution of TotalVisits in terms of conversion\")\n",
    "sns.boxplot(data=leads_df,y=\"TotalVisits\",x=\"Converted\")\n",
    "plt.show()"
   ]
  },
  {
   "cell_type": "markdown",
   "metadata": {},
   "source": [
    "- Not much effect on converted.\n",
    "- Mean for both converted and non converted leads are same."
   ]
  },
  {
   "cell_type": "code",
   "execution_count": 45,
   "metadata": {},
   "outputs": [
    {
     "data": {
      "image/png": "[encoded data removed]",
      "text/plain": [
       "<Figure size 800x500 with 1 Axes>"
      ]
     },
     "metadata": {
      "needs_background": "light"
     },
     "output_type": "display_data"
    }
   ],
   "source": [
    "plt.figure(figsize=(8,5),dpi=100)\n",
    "plt.title(\"Distribution of Total Time Spent on Website in terms of conversion\")\n",
    "sns.boxplot(data=leads_df,y=\"Total Time Spent on Website\",x=\"Converted\")\n",
    "plt.show()"
   ]
  },
  {
   "cell_type": "markdown",
   "metadata": {},
   "source": [
    "- More the Total time spent on webisite, more likely to convert."
   ]
  },
  {
   "cell_type": "code",
   "execution_count": 46,
   "metadata": {},
   "outputs": [
    {
     "data": {
      "image/png": "[encoded data removed]",
      "text/plain": [
       "<Figure size 800x500 with 1 Axes>"
      ]
     },
     "metadata": {
      "needs_background": "light"
     },
     "output_type": "display_data"
    }
   ],
   "source": [
    "plt.figure(figsize=(8,5),dpi=100)\n",
    "plt.title(\"Distribution of Page Views Per Visit in terms of conversion\")\n",
    "sns.boxplot(data=leads_df,y=\"Page Views Per Visit\",x=\"Converted\")\n",
    "plt.show()"
   ]
  },
  {
   "cell_type": "markdown",
   "metadata": {},
   "source": [
    "- Not much effect on Converted"
   ]
  },
  {
   "cell_type": "code",
   "execution_count": 47,
   "metadata": {},
   "outputs": [
    {
     "data": {
      "image/png": "[encoded data removed]",
      "text/plain": [
       "<Figure size 787.5x787.5 with 12 Axes>"
      ]
     },
     "metadata": {
      "needs_background": "light"
     },
     "output_type": "display_data"
    }
   ],
   "source": [
    "ax = sns.pairplot(leads_df[num_features])\n",
    "fig = ax.fig\n",
    "fig.suptitle(\"Numeric features relationships\",fontsize=16,y=1.05)\n",
    "fig.dpi = 105\n",
    "plt.show()"
   ]
  },
  {
   "cell_type": "code",
   "execution_count": 48,
   "metadata": {},
   "outputs": [
    {
     "data": {
      "image/png": "[encoded data removed]",
      "text/plain": [
       "<Figure size 770x550 with 2 Axes>"
      ]
     },
     "metadata": {
      "needs_background": "light"
     },
     "output_type": "display_data"
    }
   ],
   "source": [
    "plt.figure(figsize=(7,5),dpi=110)\n",
    "plt.title(\"Correation between numerical features\",fontsize=13)\n",
    "sns.heatmap(leads_df.corr(),cmap=\"RdYlGn\",annot=True)\n",
    "plt.yticks(fontsize=8)\n",
    "plt.xticks(fontsize=8, rotation=45)\n",
    "plt.show()"
   ]
  },
  {
   "cell_type": "markdown",
   "metadata": {},
   "source": [
    "- We can see that Page views per Visit is highly correlated with TotalVisits.\n",
    "- For other features there is not much significant correlations"
   ]
  },
  {
   "cell_type": "markdown",
   "metadata": {},
   "source": [
    "# Data preparation for Model building"
   ]
  },
  {
   "cell_type": "markdown",
   "metadata": {},
   "source": [
    "## Create Dummy variables for categorical features"
   ]
  },
  {
   "cell_type": "code",
   "execution_count": 49,
   "metadata": {},
   "outputs": [],
   "source": [
    "cat_features = ['Lead Origin',\n",
    " 'Lead Source',\n",
    " 'Specialization',\n",
    " 'What is your current occupation',\n",
    " 'City']\n",
    "\n",
    "leads_df_dummy = pd.get_dummies(data=leads_df,columns=cat_features,drop_first=True)"
   ]
  },
  {
   "cell_type": "code",
   "execution_count": 50,
   "metadata": {},
   "outputs": [],
   "source": [
    "leads_df_dummy.Country.replace({\"India\":1,\"Other\":0},inplace=True)"
   ]
  },
  {
   "cell_type": "code",
   "execution_count": 51,
   "metadata": {},
   "outputs": [],
   "source": [
    "leads_df_dummy.rename(columns={\"Country\":\"Country_India\"},inplace=True)"
   ]
  },
  {
   "cell_type": "code",
   "execution_count": 52,
   "metadata": {},
   "outputs": [],
   "source": [
    "leads_df_dummy[\"Do Not Email\"].replace({\"Yes\":1,\"No\":0},inplace=True)"
   ]
  },
  {
   "cell_type": "code",
   "execution_count": 53,
   "metadata": {},
   "outputs": [],
   "source": [
    "leads_df_dummy[\"A free copy of Mastering The Interview\"].replace({\"Yes\":1,\"No\":0},inplace=True)"
   ]
  },
  {
   "cell_type": "code",
   "execution_count": 54,
   "metadata": {},
   "outputs": [
    {
     "name": "stdout",
     "output_type": "stream",
     "text": [
      "<class 'pandas.core.frame.DataFrame'>\n",
      "Int64Index: 7551 entries, 0 to 9239\n",
      "Data columns (total 23 columns):\n",
      " #   Column                                                Non-Null Count  Dtype  \n",
      "---  ------                                                --------------  -----  \n",
      " 0   Do Not Email                                          7551 non-null   int64  \n",
      " 1   Converted                                             7551 non-null   int64  \n",
      " 2   TotalVisits                                           7551 non-null   float64\n",
      " 3   Total Time Spent on Website                           7551 non-null   int64  \n",
      " 4   Page Views Per Visit                                  7551 non-null   float64\n",
      " 5   Country_India                                         7551 non-null   int64  \n",
      " 6   A free copy of Mastering The Interview                7551 non-null   int64  \n",
      " 7   Lead Origin_Landing Page Submission                   7551 non-null   uint8  \n",
      " 8   Lead Origin_Other                                     7551 non-null   uint8  \n",
      " 9   Lead Source_Google                                    7551 non-null   uint8  \n",
      " 10  Lead Source_Olark Chat                                7551 non-null   uint8  \n",
      " 11  Lead Source_Organic Search                            7551 non-null   uint8  \n",
      " 12  Lead Source_Other                                     7551 non-null   uint8  \n",
      " 13  Lead Source_Reference                                 7551 non-null   uint8  \n",
      " 14  Specialization_Finance Management                     7551 non-null   uint8  \n",
      " 15  Specialization_Human Resource Management              7551 non-null   uint8  \n",
      " 16  Specialization_Marketing Management                   7551 non-null   uint8  \n",
      " 17  Specialization_Operations Management                  7551 non-null   uint8  \n",
      " 18  Specialization_Other                                  7551 non-null   uint8  \n",
      " 19  What is your current occupation_Unemployed            7551 non-null   uint8  \n",
      " 20  What is your current occupation_Working Professional  7551 non-null   uint8  \n",
      " 21  City_Other                                            7551 non-null   uint8  \n",
      " 22  City_Thane & Outskirts                                7551 non-null   uint8  \n",
      "dtypes: float64(2), int64(5), uint8(16)\n",
      "memory usage: 589.9 KB\n"
     ]
    }
   ],
   "source": [
    "leads_df_dummy.info()"
   ]
  },
  {
   "cell_type": "markdown",
   "metadata": {},
   "source": [
    "## Splitting data into test and train"
   ]
  },
  {
   "cell_type": "code",
   "execution_count": 55,
   "metadata": {},
   "outputs": [],
   "source": [
    "from sklearn.model_selection import train_test_split\n",
    "leads_df_train,leads_df_test = train_test_split(leads_df_dummy,test_size=0.3,random_state = 100)"
   ]
  },
  {
   "cell_type": "code",
   "execution_count": 56,
   "metadata": {},
   "outputs": [],
   "source": [
    "y_train = leads_df_train.pop(\"Converted\")\n",
    "X_train = leads_df_train\n",
    "y_test = leads_df_test.pop(\"Converted\")\n",
    "X_test = leads_df_test"
   ]
  },
  {
   "cell_type": "markdown",
   "metadata": {},
   "source": [
    "## Scaling"
   ]
  },
  {
   "cell_type": "code",
   "execution_count": 57,
   "metadata": {},
   "outputs": [],
   "source": [
    "from sklearn.preprocessing import StandardScaler\n",
    "\n",
    "scaler  = StandardScaler()\n",
    "X_train_scaled = pd.DataFrame(scaler.fit_transform(X_train),columns=X_train.columns,index=X_train.index)"
   ]
  },
  {
   "cell_type": "markdown",
   "metadata": {},
   "source": [
    "## Feature Selection using RFE"
   ]
  },
  {
   "cell_type": "code",
   "execution_count": 58,
   "metadata": {},
   "outputs": [],
   "source": [
    "from sklearn.feature_selection import RFE\n",
    "from sklearn.linear_model import LogisticRegression"
   ]
  },
  {
   "cell_type": "code",
   "execution_count": 59,
   "metadata": {},
   "outputs": [],
   "source": [
    "lm = LogisticRegression()\n",
    "rfe = RFE(lm,n_features_to_select= 17)\n",
    "rfe = rfe.fit(X_train_scaled,y_train)"
   ]
  },
  {
   "cell_type": "code",
   "execution_count": 60,
   "metadata": {},
   "outputs": [
    {
     "data": {
      "text/html": [
       "<div>\n",
       "<style scoped>\n",
       "    .dataframe tbody tr th:only-of-type {\n",
       "        vertical-align: middle;\n",
       "    }\n",
       "\n",
       "    .dataframe tbody tr th {\n",
       "        vertical-align: top;\n",
       "    }\n",
       "\n",
       "    .dataframe thead th {\n",
       "        text-align: right;\n",
       "    }\n",
       "</style>\n",
       "<table border=\"1\" class=\"dataframe\">\n",
       "  <thead>\n",
       "    <tr style=\"text-align: right;\">\n",
       "      <th></th>\n",
       "      <th>Feature</th>\n",
       "      <th>Ranking</th>\n",
       "      <th>Support</th>\n",
       "    </tr>\n",
       "  </thead>\n",
       "  <tbody>\n",
       "    <tr>\n",
       "      <th>0</th>\n",
       "      <td>Do Not Email</td>\n",
       "      <td>1</td>\n",
       "      <td>True</td>\n",
       "    </tr>\n",
       "    <tr>\n",
       "      <th>19</th>\n",
       "      <td>What is your current occupation_Working Profes...</td>\n",
       "      <td>1</td>\n",
       "      <td>True</td>\n",
       "    </tr>\n",
       "    <tr>\n",
       "      <th>18</th>\n",
       "      <td>What is your current occupation_Unemployed</td>\n",
       "      <td>1</td>\n",
       "      <td>True</td>\n",
       "    </tr>\n",
       "    <tr>\n",
       "      <th>14</th>\n",
       "      <td>Specialization_Human Resource Management</td>\n",
       "      <td>1</td>\n",
       "      <td>True</td>\n",
       "    </tr>\n",
       "    <tr>\n",
       "      <th>13</th>\n",
       "      <td>Specialization_Finance Management</td>\n",
       "      <td>1</td>\n",
       "      <td>True</td>\n",
       "    </tr>\n",
       "    <tr>\n",
       "      <th>12</th>\n",
       "      <td>Lead Source_Reference</td>\n",
       "      <td>1</td>\n",
       "      <td>True</td>\n",
       "    </tr>\n",
       "    <tr>\n",
       "      <th>20</th>\n",
       "      <td>City_Other</td>\n",
       "      <td>1</td>\n",
       "      <td>True</td>\n",
       "    </tr>\n",
       "    <tr>\n",
       "      <th>9</th>\n",
       "      <td>Lead Source_Olark Chat</td>\n",
       "      <td>1</td>\n",
       "      <td>True</td>\n",
       "    </tr>\n",
       "    <tr>\n",
       "      <th>10</th>\n",
       "      <td>Lead Source_Organic Search</td>\n",
       "      <td>1</td>\n",
       "      <td>True</td>\n",
       "    </tr>\n",
       "    <tr>\n",
       "      <th>7</th>\n",
       "      <td>Lead Origin_Other</td>\n",
       "      <td>1</td>\n",
       "      <td>True</td>\n",
       "    </tr>\n",
       "    <tr>\n",
       "      <th>6</th>\n",
       "      <td>Lead Origin_Landing Page Submission</td>\n",
       "      <td>1</td>\n",
       "      <td>True</td>\n",
       "    </tr>\n",
       "    <tr>\n",
       "      <th>5</th>\n",
       "      <td>A free copy of Mastering The Interview</td>\n",
       "      <td>1</td>\n",
       "      <td>True</td>\n",
       "    </tr>\n",
       "    <tr>\n",
       "      <th>3</th>\n",
       "      <td>Page Views Per Visit</td>\n",
       "      <td>1</td>\n",
       "      <td>True</td>\n",
       "    </tr>\n",
       "    <tr>\n",
       "      <th>2</th>\n",
       "      <td>Total Time Spent on Website</td>\n",
       "      <td>1</td>\n",
       "      <td>True</td>\n",
       "    </tr>\n",
       "    <tr>\n",
       "      <th>1</th>\n",
       "      <td>TotalVisits</td>\n",
       "      <td>1</td>\n",
       "      <td>True</td>\n",
       "    </tr>\n",
       "    <tr>\n",
       "      <th>8</th>\n",
       "      <td>Lead Source_Google</td>\n",
       "      <td>1</td>\n",
       "      <td>True</td>\n",
       "    </tr>\n",
       "    <tr>\n",
       "      <th>21</th>\n",
       "      <td>City_Thane &amp; Outskirts</td>\n",
       "      <td>1</td>\n",
       "      <td>True</td>\n",
       "    </tr>\n",
       "    <tr>\n",
       "      <th>4</th>\n",
       "      <td>Country_India</td>\n",
       "      <td>2</td>\n",
       "      <td>False</td>\n",
       "    </tr>\n",
       "    <tr>\n",
       "      <th>16</th>\n",
       "      <td>Specialization_Operations Management</td>\n",
       "      <td>3</td>\n",
       "      <td>False</td>\n",
       "    </tr>\n",
       "    <tr>\n",
       "      <th>17</th>\n",
       "      <td>Specialization_Other</td>\n",
       "      <td>4</td>\n",
       "      <td>False</td>\n",
       "    </tr>\n",
       "    <tr>\n",
       "      <th>15</th>\n",
       "      <td>Specialization_Marketing Management</td>\n",
       "      <td>5</td>\n",
       "      <td>False</td>\n",
       "    </tr>\n",
       "    <tr>\n",
       "      <th>11</th>\n",
       "      <td>Lead Source_Other</td>\n",
       "      <td>6</td>\n",
       "      <td>False</td>\n",
       "    </tr>\n",
       "  </tbody>\n",
       "</table>\n",
       "</div>"
      ],
      "text/plain": [
       "                                              Feature  Ranking  Support\n",
       "0                                        Do Not Email        1     True\n",
       "19  What is your current occupation_Working Profes...        1     True\n",
       "18         What is your current occupation_Unemployed        1     True\n",
       "14           Specialization_Human Resource Management        1     True\n",
       "13                  Specialization_Finance Management        1     True\n",
       "12                              Lead Source_Reference        1     True\n",
       "20                                         City_Other        1     True\n",
       "9                              Lead Source_Olark Chat        1     True\n",
       "10                         Lead Source_Organic Search        1     True\n",
       "7                                   Lead Origin_Other        1     True\n",
       "6                 Lead Origin_Landing Page Submission        1     True\n",
       "5              A free copy of Mastering The Interview        1     True\n",
       "3                                Page Views Per Visit        1     True\n",
       "2                         Total Time Spent on Website        1     True\n",
       "1                                         TotalVisits        1     True\n",
       "8                                  Lead Source_Google        1     True\n",
       "21                             City_Thane & Outskirts        1     True\n",
       "4                                       Country_India        2    False\n",
       "16               Specialization_Operations Management        3    False\n",
       "17                               Specialization_Other        4    False\n",
       "15                Specialization_Marketing Management        5    False\n",
       "11                                  Lead Source_Other        6    False"
      ]
     },
     "execution_count": 60,
     "metadata": {},
     "output_type": "execute_result"
    }
   ],
   "source": [
    "pd.DataFrame({\"Feature\":X_train_scaled.columns,\n",
    "              \"Ranking\":rfe.ranking_,\n",
    "              \"Support\":rfe.support_}).sort_values(by=\"Ranking\")"
   ]
  },
  {
   "cell_type": "code",
   "execution_count": 61,
   "metadata": {},
   "outputs": [],
   "source": [
    "X_train_1 = X_train_scaled.loc[:,rfe.support_]"
   ]
  },
  {
   "cell_type": "code",
   "execution_count": 62,
   "metadata": {},
   "outputs": [
    {
     "data": {
      "text/html": [
       "<div>\n",
       "<style scoped>\n",
       "    .dataframe tbody tr th:only-of-type {\n",
       "        vertical-align: middle;\n",
       "    }\n",
       "\n",
       "    .dataframe tbody tr th {\n",
       "        vertical-align: top;\n",
       "    }\n",
       "\n",
       "    .dataframe thead th {\n",
       "        text-align: right;\n",
       "    }\n",
       "</style>\n",
       "<table border=\"1\" class=\"dataframe\">\n",
       "  <thead>\n",
       "    <tr style=\"text-align: right;\">\n",
       "      <th></th>\n",
       "      <th>Features</th>\n",
       "    </tr>\n",
       "  </thead>\n",
       "  <tbody>\n",
       "    <tr>\n",
       "      <th>0</th>\n",
       "      <td>Do Not Email</td>\n",
       "    </tr>\n",
       "    <tr>\n",
       "      <th>1</th>\n",
       "      <td>TotalVisits</td>\n",
       "    </tr>\n",
       "    <tr>\n",
       "      <th>2</th>\n",
       "      <td>Total Time Spent on Website</td>\n",
       "    </tr>\n",
       "    <tr>\n",
       "      <th>3</th>\n",
       "      <td>Page Views Per Visit</td>\n",
       "    </tr>\n",
       "    <tr>\n",
       "      <th>4</th>\n",
       "      <td>A free copy of Mastering The Interview</td>\n",
       "    </tr>\n",
       "    <tr>\n",
       "      <th>5</th>\n",
       "      <td>Lead Origin_Landing Page Submission</td>\n",
       "    </tr>\n",
       "    <tr>\n",
       "      <th>6</th>\n",
       "      <td>Lead Origin_Other</td>\n",
       "    </tr>\n",
       "    <tr>\n",
       "      <th>7</th>\n",
       "      <td>Lead Source_Google</td>\n",
       "    </tr>\n",
       "    <tr>\n",
       "      <th>8</th>\n",
       "      <td>Lead Source_Olark Chat</td>\n",
       "    </tr>\n",
       "    <tr>\n",
       "      <th>9</th>\n",
       "      <td>Lead Source_Organic Search</td>\n",
       "    </tr>\n",
       "    <tr>\n",
       "      <th>10</th>\n",
       "      <td>Lead Source_Reference</td>\n",
       "    </tr>\n",
       "    <tr>\n",
       "      <th>11</th>\n",
       "      <td>Specialization_Finance Management</td>\n",
       "    </tr>\n",
       "    <tr>\n",
       "      <th>12</th>\n",
       "      <td>Specialization_Human Resource Management</td>\n",
       "    </tr>\n",
       "    <tr>\n",
       "      <th>13</th>\n",
       "      <td>What is your current occupation_Unemployed</td>\n",
       "    </tr>\n",
       "    <tr>\n",
       "      <th>14</th>\n",
       "      <td>What is your current occupation_Working Profes...</td>\n",
       "    </tr>\n",
       "    <tr>\n",
       "      <th>15</th>\n",
       "      <td>City_Other</td>\n",
       "    </tr>\n",
       "    <tr>\n",
       "      <th>16</th>\n",
       "      <td>City_Thane &amp; Outskirts</td>\n",
       "    </tr>\n",
       "  </tbody>\n",
       "</table>\n",
       "</div>"
      ],
      "text/plain": [
       "                                             Features\n",
       "0                                        Do Not Email\n",
       "1                                         TotalVisits\n",
       "2                         Total Time Spent on Website\n",
       "3                                Page Views Per Visit\n",
       "4              A free copy of Mastering The Interview\n",
       "5                 Lead Origin_Landing Page Submission\n",
       "6                                   Lead Origin_Other\n",
       "7                                  Lead Source_Google\n",
       "8                              Lead Source_Olark Chat\n",
       "9                          Lead Source_Organic Search\n",
       "10                              Lead Source_Reference\n",
       "11                  Specialization_Finance Management\n",
       "12           Specialization_Human Resource Management\n",
       "13         What is your current occupation_Unemployed\n",
       "14  What is your current occupation_Working Profes...\n",
       "15                                         City_Other\n",
       "16                             City_Thane & Outskirts"
      ]
     },
     "execution_count": 62,
     "metadata": {},
     "output_type": "execute_result"
    }
   ],
   "source": [
    "pd.DataFrame(X_train_1.columns,columns=[\"Features\"])"
   ]
  },
  {
   "cell_type": "code",
   "execution_count": 63,
   "metadata": {},
   "outputs": [],
   "source": [
    "import statsmodels.api as sm\n",
    "from statsmodels.stats.outliers_influence import variance_inflation_factor"
   ]
  },
  {
   "cell_type": "code",
   "execution_count": 64,
   "metadata": {},
   "outputs": [],
   "source": [
    "def get_vif(X):\n",
    "    vif = pd.DataFrame()\n",
    "    vif['Features'] = X.columns\n",
    "    vif['VIF'] = [variance_inflation_factor(X.values, i) for i in range(X.shape[1])]\n",
    "    vif['VIF'] = round(vif['VIF'], 2)\n",
    "    vif = vif.sort_values(by = \"VIF\", ascending = False)\n",
    "    return vif"
   ]
  },
  {
   "cell_type": "markdown",
   "metadata": {},
   "source": [
    "## Assessing model with  Stats Model"
   ]
  },
  {
   "cell_type": "code",
   "execution_count": 65,
   "metadata": {},
   "outputs": [
    {
     "data": {
      "text/html": [
       "<table class=\"simpletable\">\n",
       "<caption>Generalized Linear Model Regression Results</caption>\n",
       "<tr>\n",
       "  <th>Dep. Variable:</th>       <td>Converted</td>    <th>  No. Observations:  </th>  <td>  5285</td> \n",
       "</tr>\n",
       "<tr>\n",
       "  <th>Model:</th>                  <td>GLM</td>       <th>  Df Residuals:      </th>  <td>  5267</td> \n",
       "</tr>\n",
       "<tr>\n",
       "  <th>Model Family:</th>        <td>Binomial</td>     <th>  Df Model:          </th>  <td>    17</td> \n",
       "</tr>\n",
       "<tr>\n",
       "  <th>Link Function:</th>         <td>logit</td>      <th>  Scale:             </th> <td>  1.0000</td>\n",
       "</tr>\n",
       "<tr>\n",
       "  <th>Method:</th>                <td>IRLS</td>       <th>  Log-Likelihood:    </th> <td> -2398.3</td>\n",
       "</tr>\n",
       "<tr>\n",
       "  <th>Date:</th>            <td>Mon, 07 Dec 2020</td> <th>  Deviance:          </th> <td>  4796.7</td>\n",
       "</tr>\n",
       "<tr>\n",
       "  <th>Time:</th>                <td>23:30:42</td>     <th>  Pearson chi2:      </th> <td>5.86e+03</td>\n",
       "</tr>\n",
       "<tr>\n",
       "  <th>No. Iterations:</th>          <td>6</td>        <th>                     </th>     <td> </td>   \n",
       "</tr>\n",
       "<tr>\n",
       "  <th>Covariance Type:</th>     <td>nonrobust</td>    <th>                     </th>     <td> </td>   \n",
       "</tr>\n",
       "</table>\n",
       "<table class=\"simpletable\">\n",
       "<tr>\n",
       "                            <td></td>                              <th>coef</th>     <th>std err</th>      <th>z</th>      <th>P>|z|</th>  <th>[0.025</th>    <th>0.975]</th>  \n",
       "</tr>\n",
       "<tr>\n",
       "  <th>const</th>                                                <td>   -0.6201</td> <td>    0.039</td> <td>  -15.895</td> <td> 0.000</td> <td>   -0.697</td> <td>   -0.544</td>\n",
       "</tr>\n",
       "<tr>\n",
       "  <th>Do Not Email</th>                                         <td>   -0.3057</td> <td>    0.046</td> <td>   -6.686</td> <td> 0.000</td> <td>   -0.395</td> <td>   -0.216</td>\n",
       "</tr>\n",
       "<tr>\n",
       "  <th>TotalVisits</th>                                          <td>    0.1637</td> <td>    0.061</td> <td>    2.667</td> <td> 0.008</td> <td>    0.043</td> <td>    0.284</td>\n",
       "</tr>\n",
       "<tr>\n",
       "  <th>Total Time Spent on Website</th>                          <td>    1.0302</td> <td>    0.043</td> <td>   23.826</td> <td> 0.000</td> <td>    0.945</td> <td>    1.115</td>\n",
       "</tr>\n",
       "<tr>\n",
       "  <th>Page Views Per Visit</th>                                 <td>   -0.2011</td> <td>    0.073</td> <td>   -2.770</td> <td> 0.006</td> <td>   -0.343</td> <td>   -0.059</td>\n",
       "</tr>\n",
       "<tr>\n",
       "  <th>A free copy of Mastering The Interview</th>               <td>   -0.0470</td> <td>    0.055</td> <td>   -0.862</td> <td> 0.388</td> <td>   -0.154</td> <td>    0.060</td>\n",
       "</tr>\n",
       "<tr>\n",
       "  <th>Lead Origin_Landing Page Submission</th>                  <td>   -0.1045</td> <td>    0.065</td> <td>   -1.609</td> <td> 0.108</td> <td>   -0.232</td> <td>    0.023</td>\n",
       "</tr>\n",
       "<tr>\n",
       "  <th>Lead Origin_Other</th>                                    <td>    0.9099</td> <td>    0.070</td> <td>   12.943</td> <td> 0.000</td> <td>    0.772</td> <td>    1.048</td>\n",
       "</tr>\n",
       "<tr>\n",
       "  <th>Lead Source_Google</th>                                   <td>    0.1618</td> <td>    0.057</td> <td>    2.859</td> <td> 0.004</td> <td>    0.051</td> <td>    0.273</td>\n",
       "</tr>\n",
       "<tr>\n",
       "  <th>Lead Source_Olark Chat</th>                               <td>    0.5313</td> <td>    0.072</td> <td>    7.346</td> <td> 0.000</td> <td>    0.390</td> <td>    0.673</td>\n",
       "</tr>\n",
       "<tr>\n",
       "  <th>Lead Source_Organic Search</th>                           <td>    0.0635</td> <td>    0.042</td> <td>    1.501</td> <td> 0.133</td> <td>   -0.019</td> <td>    0.146</td>\n",
       "</tr>\n",
       "<tr>\n",
       "  <th>Lead Source_Reference</th>                                <td>    0.1455</td> <td>    0.069</td> <td>    2.110</td> <td> 0.035</td> <td>    0.010</td> <td>    0.281</td>\n",
       "</tr>\n",
       "<tr>\n",
       "  <th>Specialization_Finance Management</th>                    <td>   -0.2643</td> <td>    0.051</td> <td>   -5.159</td> <td> 0.000</td> <td>   -0.365</td> <td>   -0.164</td>\n",
       "</tr>\n",
       "<tr>\n",
       "  <th>Specialization_Human Resource Management</th>             <td>   -0.0708</td> <td>    0.038</td> <td>   -1.880</td> <td> 0.060</td> <td>   -0.145</td> <td>    0.003</td>\n",
       "</tr>\n",
       "<tr>\n",
       "  <th>What is your current occupation_Unemployed</th>           <td>    0.5988</td> <td>    0.043</td> <td>   13.986</td> <td> 0.000</td> <td>    0.515</td> <td>    0.683</td>\n",
       "</tr>\n",
       "<tr>\n",
       "  <th>What is your current occupation_Working Professional</th> <td>    0.9276</td> <td>    0.054</td> <td>   17.213</td> <td> 0.000</td> <td>    0.822</td> <td>    1.033</td>\n",
       "</tr>\n",
       "<tr>\n",
       "  <th>City_Other</th>                                           <td>    0.0541</td> <td>    0.039</td> <td>    1.370</td> <td> 0.171</td> <td>   -0.023</td> <td>    0.131</td>\n",
       "</tr>\n",
       "<tr>\n",
       "  <th>City_Thane & Outskirts</th>                               <td>    0.0427</td> <td>    0.037</td> <td>    1.160</td> <td> 0.246</td> <td>   -0.029</td> <td>    0.115</td>\n",
       "</tr>\n",
       "</table>"
      ],
      "text/plain": [
       "<class 'statsmodels.iolib.summary.Summary'>\n",
       "\"\"\"\n",
       "                 Generalized Linear Model Regression Results                  \n",
       "==============================================================================\n",
       "Dep. Variable:              Converted   No. Observations:                 5285\n",
       "Model:                            GLM   Df Residuals:                     5267\n",
       "Model Family:                Binomial   Df Model:                           17\n",
       "Link Function:                  logit   Scale:                          1.0000\n",
       "Method:                          IRLS   Log-Likelihood:                -2398.3\n",
       "Date:                Mon, 07 Dec 2020   Deviance:                       4796.7\n",
       "Time:                        23:30:42   Pearson chi2:                 5.86e+03\n",
       "No. Iterations:                     6                                         \n",
       "Covariance Type:            nonrobust                                         \n",
       "========================================================================================================================\n",
       "                                                           coef    std err          z      P>|z|      [0.025      0.975]\n",
       "------------------------------------------------------------------------------------------------------------------------\n",
       "const                                                   -0.6201      0.039    -15.895      0.000      -0.697      -0.544\n",
       "Do Not Email                                            -0.3057      0.046     -6.686      0.000      -0.395      -0.216\n",
       "TotalVisits                                              0.1637      0.061      2.667      0.008       0.043       0.284\n",
       "Total Time Spent on Website                              1.0302      0.043     23.826      0.000       0.945       1.115\n",
       "Page Views Per Visit                                    -0.2011      0.073     -2.770      0.006      -0.343      -0.059\n",
       "A free copy of Mastering The Interview                  -0.0470      0.055     -0.862      0.388      -0.154       0.060\n",
       "Lead Origin_Landing Page Submission                     -0.1045      0.065     -1.609      0.108      -0.232       0.023\n",
       "Lead Origin_Other                                        0.9099      0.070     12.943      0.000       0.772       1.048\n",
       "Lead Source_Google                                       0.1618      0.057      2.859      0.004       0.051       0.273\n",
       "Lead Source_Olark Chat                                   0.5313      0.072      7.346      0.000       0.390       0.673\n",
       "Lead Source_Organic Search                               0.0635      0.042      1.501      0.133      -0.019       0.146\n",
       "Lead Source_Reference                                    0.1455      0.069      2.110      0.035       0.010       0.281\n",
       "Specialization_Finance Management                       -0.2643      0.051     -5.159      0.000      -0.365      -0.164\n",
       "Specialization_Human Resource Management                -0.0708      0.038     -1.880      0.060      -0.145       0.003\n",
       "What is your current occupation_Unemployed               0.5988      0.043     13.986      0.000       0.515       0.683\n",
       "What is your current occupation_Working Professional     0.9276      0.054     17.213      0.000       0.822       1.033\n",
       "City_Other                                               0.0541      0.039      1.370      0.171      -0.023       0.131\n",
       "City_Thane & Outskirts                                   0.0427      0.037      1.160      0.246      -0.029       0.115\n",
       "========================================================================================================================\n",
       "\"\"\""
      ]
     },
     "execution_count": 65,
     "metadata": {},
     "output_type": "execute_result"
    }
   ],
   "source": [
    "logm1 = sm.GLM(y_train,sm.add_constant(X_train_1), family = sm.families.Binomial())\n",
    "res = logm1.fit()\n",
    "res.summary()"
   ]
  },
  {
   "cell_type": "code",
   "execution_count": 66,
   "metadata": {},
   "outputs": [],
   "source": [
    "from sklearn.metrics import accuracy_score\n",
    "def get_accuracy_score(res,X_train):\n",
    "    y_train_pred = (res.predict(sm.add_constant(X_train))>0.5).astype(int)\n",
    "    return accuracy_score(y_train,y_train_pred)"
   ]
  },
  {
   "cell_type": "code",
   "execution_count": 67,
   "metadata": {},
   "outputs": [
    {
     "data": {
      "text/plain": [
       "0.7909176915799432"
      ]
     },
     "execution_count": 67,
     "metadata": {},
     "output_type": "execute_result"
    }
   ],
   "source": [
    "get_accuracy_score(res,X_train_1)"
   ]
  },
  {
   "cell_type": "code",
   "execution_count": 68,
   "metadata": {},
   "outputs": [
    {
     "data": {
      "text/html": [
       "<div>\n",
       "<style scoped>\n",
       "    .dataframe tbody tr th:only-of-type {\n",
       "        vertical-align: middle;\n",
       "    }\n",
       "\n",
       "    .dataframe tbody tr th {\n",
       "        vertical-align: top;\n",
       "    }\n",
       "\n",
       "    .dataframe thead th {\n",
       "        text-align: right;\n",
       "    }\n",
       "</style>\n",
       "<table border=\"1\" class=\"dataframe\">\n",
       "  <thead>\n",
       "    <tr style=\"text-align: right;\">\n",
       "      <th></th>\n",
       "      <th>Features</th>\n",
       "      <th>VIF</th>\n",
       "    </tr>\n",
       "  </thead>\n",
       "  <tbody>\n",
       "    <tr>\n",
       "      <th>3</th>\n",
       "      <td>Page Views Per Visit</td>\n",
       "      <td>4.09</td>\n",
       "    </tr>\n",
       "    <tr>\n",
       "      <th>6</th>\n",
       "      <td>Lead Origin_Other</td>\n",
       "      <td>4.00</td>\n",
       "    </tr>\n",
       "    <tr>\n",
       "      <th>8</th>\n",
       "      <td>Lead Source_Olark Chat</td>\n",
       "      <td>3.83</td>\n",
       "    </tr>\n",
       "    <tr>\n",
       "      <th>5</th>\n",
       "      <td>Lead Origin_Landing Page Submission</td>\n",
       "      <td>3.35</td>\n",
       "    </tr>\n",
       "    <tr>\n",
       "      <th>1</th>\n",
       "      <td>TotalVisits</td>\n",
       "      <td>3.07</td>\n",
       "    </tr>\n",
       "    <tr>\n",
       "      <th>10</th>\n",
       "      <td>Lead Source_Reference</td>\n",
       "      <td>3.06</td>\n",
       "    </tr>\n",
       "    <tr>\n",
       "      <th>7</th>\n",
       "      <td>Lead Source_Google</td>\n",
       "      <td>2.50</td>\n",
       "    </tr>\n",
       "    <tr>\n",
       "      <th>4</th>\n",
       "      <td>A free copy of Mastering The Interview</td>\n",
       "      <td>2.28</td>\n",
       "    </tr>\n",
       "    <tr>\n",
       "      <th>11</th>\n",
       "      <td>Specialization_Finance Management</td>\n",
       "      <td>1.99</td>\n",
       "    </tr>\n",
       "    <tr>\n",
       "      <th>9</th>\n",
       "      <td>Lead Source_Organic Search</td>\n",
       "      <td>1.44</td>\n",
       "    </tr>\n",
       "    <tr>\n",
       "      <th>14</th>\n",
       "      <td>What is your current occupation_Working Profes...</td>\n",
       "      <td>1.36</td>\n",
       "    </tr>\n",
       "    <tr>\n",
       "      <th>2</th>\n",
       "      <td>Total Time Spent on Website</td>\n",
       "      <td>1.35</td>\n",
       "    </tr>\n",
       "    <tr>\n",
       "      <th>13</th>\n",
       "      <td>What is your current occupation_Unemployed</td>\n",
       "      <td>1.25</td>\n",
       "    </tr>\n",
       "    <tr>\n",
       "      <th>15</th>\n",
       "      <td>City_Other</td>\n",
       "      <td>1.24</td>\n",
       "    </tr>\n",
       "    <tr>\n",
       "      <th>12</th>\n",
       "      <td>Specialization_Human Resource Management</td>\n",
       "      <td>1.12</td>\n",
       "    </tr>\n",
       "    <tr>\n",
       "      <th>16</th>\n",
       "      <td>City_Thane &amp; Outskirts</td>\n",
       "      <td>1.09</td>\n",
       "    </tr>\n",
       "    <tr>\n",
       "      <th>0</th>\n",
       "      <td>Do Not Email</td>\n",
       "      <td>1.04</td>\n",
       "    </tr>\n",
       "  </tbody>\n",
       "</table>\n",
       "</div>"
      ],
      "text/plain": [
       "                                             Features   VIF\n",
       "3                                Page Views Per Visit  4.09\n",
       "6                                   Lead Origin_Other  4.00\n",
       "8                              Lead Source_Olark Chat  3.83\n",
       "5                 Lead Origin_Landing Page Submission  3.35\n",
       "1                                         TotalVisits  3.07\n",
       "10                              Lead Source_Reference  3.06\n",
       "7                                  Lead Source_Google  2.50\n",
       "4              A free copy of Mastering The Interview  2.28\n",
       "11                  Specialization_Finance Management  1.99\n",
       "9                          Lead Source_Organic Search  1.44\n",
       "14  What is your current occupation_Working Profes...  1.36\n",
       "2                         Total Time Spent on Website  1.35\n",
       "13         What is your current occupation_Unemployed  1.25\n",
       "15                                         City_Other  1.24\n",
       "12           Specialization_Human Resource Management  1.12\n",
       "16                             City_Thane & Outskirts  1.09\n",
       "0                                        Do Not Email  1.04"
      ]
     },
     "execution_count": 68,
     "metadata": {},
     "output_type": "execute_result"
    }
   ],
   "source": [
    "get_vif(X_train_1)"
   ]
  },
  {
   "cell_type": "markdown",
   "metadata": {},
   "source": [
    "- `A free copy of Mastering The Interview` clearly has a high p value of 0.388 , so drop it"
   ]
  },
  {
   "cell_type": "code",
   "execution_count": 69,
   "metadata": {},
   "outputs": [],
   "source": [
    "X_train_2 = X_train_1.drop(columns=\"A free copy of Mastering The Interview\")"
   ]
  },
  {
   "cell_type": "code",
   "execution_count": 70,
   "metadata": {},
   "outputs": [
    {
     "data": {
      "text/html": [
       "<table class=\"simpletable\">\n",
       "<caption>Generalized Linear Model Regression Results</caption>\n",
       "<tr>\n",
       "  <th>Dep. Variable:</th>       <td>Converted</td>    <th>  No. Observations:  </th>  <td>  5285</td> \n",
       "</tr>\n",
       "<tr>\n",
       "  <th>Model:</th>                  <td>GLM</td>       <th>  Df Residuals:      </th>  <td>  5268</td> \n",
       "</tr>\n",
       "<tr>\n",
       "  <th>Model Family:</th>        <td>Binomial</td>     <th>  Df Model:          </th>  <td>    16</td> \n",
       "</tr>\n",
       "<tr>\n",
       "  <th>Link Function:</th>         <td>logit</td>      <th>  Scale:             </th> <td>  1.0000</td>\n",
       "</tr>\n",
       "<tr>\n",
       "  <th>Method:</th>                <td>IRLS</td>       <th>  Log-Likelihood:    </th> <td> -2398.7</td>\n",
       "</tr>\n",
       "<tr>\n",
       "  <th>Date:</th>            <td>Mon, 07 Dec 2020</td> <th>  Deviance:          </th> <td>  4797.4</td>\n",
       "</tr>\n",
       "<tr>\n",
       "  <th>Time:</th>                <td>23:30:42</td>     <th>  Pearson chi2:      </th> <td>5.85e+03</td>\n",
       "</tr>\n",
       "<tr>\n",
       "  <th>No. Iterations:</th>          <td>6</td>        <th>                     </th>     <td> </td>   \n",
       "</tr>\n",
       "<tr>\n",
       "  <th>Covariance Type:</th>     <td>nonrobust</td>    <th>                     </th>     <td> </td>   \n",
       "</tr>\n",
       "</table>\n",
       "<table class=\"simpletable\">\n",
       "<tr>\n",
       "                            <td></td>                              <th>coef</th>     <th>std err</th>      <th>z</th>      <th>P>|z|</th>  <th>[0.025</th>    <th>0.975]</th>  \n",
       "</tr>\n",
       "<tr>\n",
       "  <th>const</th>                                                <td>   -0.6196</td> <td>    0.039</td> <td>  -15.885</td> <td> 0.000</td> <td>   -0.696</td> <td>   -0.543</td>\n",
       "</tr>\n",
       "<tr>\n",
       "  <th>Do Not Email</th>                                         <td>   -0.3043</td> <td>    0.046</td> <td>   -6.655</td> <td> 0.000</td> <td>   -0.394</td> <td>   -0.215</td>\n",
       "</tr>\n",
       "<tr>\n",
       "  <th>TotalVisits</th>                                          <td>    0.1589</td> <td>    0.061</td> <td>    2.597</td> <td> 0.009</td> <td>    0.039</td> <td>    0.279</td>\n",
       "</tr>\n",
       "<tr>\n",
       "  <th>Total Time Spent on Website</th>                          <td>    1.0298</td> <td>    0.043</td> <td>   23.816</td> <td> 0.000</td> <td>    0.945</td> <td>    1.115</td>\n",
       "</tr>\n",
       "<tr>\n",
       "  <th>Page Views Per Visit</th>                                 <td>   -0.1955</td> <td>    0.072</td> <td>   -2.704</td> <td> 0.007</td> <td>   -0.337</td> <td>   -0.054</td>\n",
       "</tr>\n",
       "<tr>\n",
       "  <th>Lead Origin_Landing Page Submission</th>                  <td>   -0.1181</td> <td>    0.063</td> <td>   -1.871</td> <td> 0.061</td> <td>   -0.242</td> <td>    0.006</td>\n",
       "</tr>\n",
       "<tr>\n",
       "  <th>Lead Origin_Other</th>                                    <td>    0.9212</td> <td>    0.069</td> <td>   13.330</td> <td> 0.000</td> <td>    0.786</td> <td>    1.057</td>\n",
       "</tr>\n",
       "<tr>\n",
       "  <th>Lead Source_Google</th>                                   <td>    0.1883</td> <td>    0.048</td> <td>    3.954</td> <td> 0.000</td> <td>    0.095</td> <td>    0.282</td>\n",
       "</tr>\n",
       "<tr>\n",
       "  <th>Lead Source_Olark Chat</th>                               <td>    0.5499</td> <td>    0.069</td> <td>    7.949</td> <td> 0.000</td> <td>    0.414</td> <td>    0.685</td>\n",
       "</tr>\n",
       "<tr>\n",
       "  <th>Lead Source_Organic Search</th>                           <td>    0.0700</td> <td>    0.042</td> <td>    1.680</td> <td> 0.093</td> <td>   -0.012</td> <td>    0.152</td>\n",
       "</tr>\n",
       "<tr>\n",
       "  <th>Lead Source_Reference</th>                                <td>    0.1480</td> <td>    0.069</td> <td>    2.150</td> <td> 0.032</td> <td>    0.013</td> <td>    0.283</td>\n",
       "</tr>\n",
       "<tr>\n",
       "  <th>Specialization_Finance Management</th>                    <td>   -0.2589</td> <td>    0.051</td> <td>   -5.093</td> <td> 0.000</td> <td>   -0.359</td> <td>   -0.159</td>\n",
       "</tr>\n",
       "<tr>\n",
       "  <th>Specialization_Human Resource Management</th>             <td>   -0.0704</td> <td>    0.038</td> <td>   -1.871</td> <td> 0.061</td> <td>   -0.144</td> <td>    0.003</td>\n",
       "</tr>\n",
       "<tr>\n",
       "  <th>What is your current occupation_Unemployed</th>           <td>    0.5985</td> <td>    0.043</td> <td>   13.981</td> <td> 0.000</td> <td>    0.515</td> <td>    0.682</td>\n",
       "</tr>\n",
       "<tr>\n",
       "  <th>What is your current occupation_Working Professional</th> <td>    0.9290</td> <td>    0.054</td> <td>   17.232</td> <td> 0.000</td> <td>    0.823</td> <td>    1.035</td>\n",
       "</tr>\n",
       "<tr>\n",
       "  <th>City_Other</th>                                           <td>    0.0514</td> <td>    0.039</td> <td>    1.306</td> <td> 0.191</td> <td>   -0.026</td> <td>    0.128</td>\n",
       "</tr>\n",
       "<tr>\n",
       "  <th>City_Thane & Outskirts</th>                               <td>    0.0441</td> <td>    0.037</td> <td>    1.199</td> <td> 0.231</td> <td>   -0.028</td> <td>    0.116</td>\n",
       "</tr>\n",
       "</table>"
      ],
      "text/plain": [
       "<class 'statsmodels.iolib.summary.Summary'>\n",
       "\"\"\"\n",
       "                 Generalized Linear Model Regression Results                  \n",
       "==============================================================================\n",
       "Dep. Variable:              Converted   No. Observations:                 5285\n",
       "Model:                            GLM   Df Residuals:                     5268\n",
       "Model Family:                Binomial   Df Model:                           16\n",
       "Link Function:                  logit   Scale:                          1.0000\n",
       "Method:                          IRLS   Log-Likelihood:                -2398.7\n",
       "Date:                Mon, 07 Dec 2020   Deviance:                       4797.4\n",
       "Time:                        23:30:42   Pearson chi2:                 5.85e+03\n",
       "No. Iterations:                     6                                         \n",
       "Covariance Type:            nonrobust                                         \n",
       "========================================================================================================================\n",
       "                                                           coef    std err          z      P>|z|      [0.025      0.975]\n",
       "------------------------------------------------------------------------------------------------------------------------\n",
       "const                                                   -0.6196      0.039    -15.885      0.000      -0.696      -0.543\n",
       "Do Not Email                                            -0.3043      0.046     -6.655      0.000      -0.394      -0.215\n",
       "TotalVisits                                              0.1589      0.061      2.597      0.009       0.039       0.279\n",
       "Total Time Spent on Website                              1.0298      0.043     23.816      0.000       0.945       1.115\n",
       "Page Views Per Visit                                    -0.1955      0.072     -2.704      0.007      -0.337      -0.054\n",
       "Lead Origin_Landing Page Submission                     -0.1181      0.063     -1.871      0.061      -0.242       0.006\n",
       "Lead Origin_Other                                        0.9212      0.069     13.330      0.000       0.786       1.057\n",
       "Lead Source_Google                                       0.1883      0.048      3.954      0.000       0.095       0.282\n",
       "Lead Source_Olark Chat                                   0.5499      0.069      7.949      0.000       0.414       0.685\n",
       "Lead Source_Organic Search                               0.0700      0.042      1.680      0.093      -0.012       0.152\n",
       "Lead Source_Reference                                    0.1480      0.069      2.150      0.032       0.013       0.283\n",
       "Specialization_Finance Management                       -0.2589      0.051     -5.093      0.000      -0.359      -0.159\n",
       "Specialization_Human Resource Management                -0.0704      0.038     -1.871      0.061      -0.144       0.003\n",
       "What is your current occupation_Unemployed               0.5985      0.043     13.981      0.000       0.515       0.682\n",
       "What is your current occupation_Working Professional     0.9290      0.054     17.232      0.000       0.823       1.035\n",
       "City_Other                                               0.0514      0.039      1.306      0.191      -0.026       0.128\n",
       "City_Thane & Outskirts                                   0.0441      0.037      1.199      0.231      -0.028       0.116\n",
       "========================================================================================================================\n",
       "\"\"\""
      ]
     },
     "execution_count": 70,
     "metadata": {},
     "output_type": "execute_result"
    }
   ],
   "source": [
    "logm2 = sm.GLM(y_train,sm.add_constant(X_train_2), family = sm.families.Binomial())\n",
    "res = logm2.fit()\n",
    "res.summary()"
   ]
  },
  {
   "cell_type": "code",
   "execution_count": 71,
   "metadata": {},
   "outputs": [
    {
     "data": {
      "text/plain": [
       "0.7899716177861873"
      ]
     },
     "execution_count": 71,
     "metadata": {},
     "output_type": "execute_result"
    }
   ],
   "source": [
    "get_accuracy_score(res,X_train_2)"
   ]
  },
  {
   "cell_type": "code",
   "execution_count": 72,
   "metadata": {},
   "outputs": [
    {
     "data": {
      "text/html": [
       "<div>\n",
       "<style scoped>\n",
       "    .dataframe tbody tr th:only-of-type {\n",
       "        vertical-align: middle;\n",
       "    }\n",
       "\n",
       "    .dataframe tbody tr th {\n",
       "        vertical-align: top;\n",
       "    }\n",
       "\n",
       "    .dataframe thead th {\n",
       "        text-align: right;\n",
       "    }\n",
       "</style>\n",
       "<table border=\"1\" class=\"dataframe\">\n",
       "  <thead>\n",
       "    <tr style=\"text-align: right;\">\n",
       "      <th></th>\n",
       "      <th>Features</th>\n",
       "      <th>VIF</th>\n",
       "    </tr>\n",
       "  </thead>\n",
       "  <tbody>\n",
       "    <tr>\n",
       "      <th>3</th>\n",
       "      <td>Page Views Per Visit</td>\n",
       "      <td>4.07</td>\n",
       "    </tr>\n",
       "    <tr>\n",
       "      <th>5</th>\n",
       "      <td>Lead Origin_Other</td>\n",
       "      <td>3.87</td>\n",
       "    </tr>\n",
       "    <tr>\n",
       "      <th>7</th>\n",
       "      <td>Lead Source_Olark Chat</td>\n",
       "      <td>3.50</td>\n",
       "    </tr>\n",
       "    <tr>\n",
       "      <th>4</th>\n",
       "      <td>Lead Origin_Landing Page Submission</td>\n",
       "      <td>3.15</td>\n",
       "    </tr>\n",
       "    <tr>\n",
       "      <th>1</th>\n",
       "      <td>TotalVisits</td>\n",
       "      <td>3.05</td>\n",
       "    </tr>\n",
       "    <tr>\n",
       "      <th>9</th>\n",
       "      <td>Lead Source_Reference</td>\n",
       "      <td>3.05</td>\n",
       "    </tr>\n",
       "    <tr>\n",
       "      <th>10</th>\n",
       "      <td>Specialization_Finance Management</td>\n",
       "      <td>1.97</td>\n",
       "    </tr>\n",
       "    <tr>\n",
       "      <th>6</th>\n",
       "      <td>Lead Source_Google</td>\n",
       "      <td>1.80</td>\n",
       "    </tr>\n",
       "    <tr>\n",
       "      <th>8</th>\n",
       "      <td>Lead Source_Organic Search</td>\n",
       "      <td>1.40</td>\n",
       "    </tr>\n",
       "    <tr>\n",
       "      <th>13</th>\n",
       "      <td>What is your current occupation_Working Profes...</td>\n",
       "      <td>1.36</td>\n",
       "    </tr>\n",
       "    <tr>\n",
       "      <th>2</th>\n",
       "      <td>Total Time Spent on Website</td>\n",
       "      <td>1.35</td>\n",
       "    </tr>\n",
       "    <tr>\n",
       "      <th>12</th>\n",
       "      <td>What is your current occupation_Unemployed</td>\n",
       "      <td>1.25</td>\n",
       "    </tr>\n",
       "    <tr>\n",
       "      <th>14</th>\n",
       "      <td>City_Other</td>\n",
       "      <td>1.23</td>\n",
       "    </tr>\n",
       "    <tr>\n",
       "      <th>11</th>\n",
       "      <td>Specialization_Human Resource Management</td>\n",
       "      <td>1.12</td>\n",
       "    </tr>\n",
       "    <tr>\n",
       "      <th>15</th>\n",
       "      <td>City_Thane &amp; Outskirts</td>\n",
       "      <td>1.09</td>\n",
       "    </tr>\n",
       "    <tr>\n",
       "      <th>0</th>\n",
       "      <td>Do Not Email</td>\n",
       "      <td>1.04</td>\n",
       "    </tr>\n",
       "  </tbody>\n",
       "</table>\n",
       "</div>"
      ],
      "text/plain": [
       "                                             Features   VIF\n",
       "3                                Page Views Per Visit  4.07\n",
       "5                                   Lead Origin_Other  3.87\n",
       "7                              Lead Source_Olark Chat  3.50\n",
       "4                 Lead Origin_Landing Page Submission  3.15\n",
       "1                                         TotalVisits  3.05\n",
       "9                               Lead Source_Reference  3.05\n",
       "10                  Specialization_Finance Management  1.97\n",
       "6                                  Lead Source_Google  1.80\n",
       "8                          Lead Source_Organic Search  1.40\n",
       "13  What is your current occupation_Working Profes...  1.36\n",
       "2                         Total Time Spent on Website  1.35\n",
       "12         What is your current occupation_Unemployed  1.25\n",
       "14                                         City_Other  1.23\n",
       "11           Specialization_Human Resource Management  1.12\n",
       "15                             City_Thane & Outskirts  1.09\n",
       "0                                        Do Not Email  1.04"
      ]
     },
     "execution_count": 72,
     "metadata": {},
     "output_type": "execute_result"
    }
   ],
   "source": [
    "get_vif(X_train_2)"
   ]
  },
  {
   "cell_type": "markdown",
   "metadata": {},
   "source": [
    "- `City_Thane & Outskirt ` clearly has a high p value of 0.231, so drop it."
   ]
  },
  {
   "cell_type": "code",
   "execution_count": 73,
   "metadata": {},
   "outputs": [],
   "source": [
    "X_train_3 = X_train_2.drop(columns=\"City_Thane & Outskirts\")"
   ]
  },
  {
   "cell_type": "code",
   "execution_count": 74,
   "metadata": {},
   "outputs": [
    {
     "data": {
      "text/html": [
       "<table class=\"simpletable\">\n",
       "<caption>Generalized Linear Model Regression Results</caption>\n",
       "<tr>\n",
       "  <th>Dep. Variable:</th>       <td>Converted</td>    <th>  No. Observations:  </th>  <td>  5285</td> \n",
       "</tr>\n",
       "<tr>\n",
       "  <th>Model:</th>                  <td>GLM</td>       <th>  Df Residuals:      </th>  <td>  5269</td> \n",
       "</tr>\n",
       "<tr>\n",
       "  <th>Model Family:</th>        <td>Binomial</td>     <th>  Df Model:          </th>  <td>    15</td> \n",
       "</tr>\n",
       "<tr>\n",
       "  <th>Link Function:</th>         <td>logit</td>      <th>  Scale:             </th> <td>  1.0000</td>\n",
       "</tr>\n",
       "<tr>\n",
       "  <th>Method:</th>                <td>IRLS</td>       <th>  Log-Likelihood:    </th> <td> -2399.4</td>\n",
       "</tr>\n",
       "<tr>\n",
       "  <th>Date:</th>            <td>Mon, 07 Dec 2020</td> <th>  Deviance:          </th> <td>  4798.9</td>\n",
       "</tr>\n",
       "<tr>\n",
       "  <th>Time:</th>                <td>23:30:42</td>     <th>  Pearson chi2:      </th> <td>5.85e+03</td>\n",
       "</tr>\n",
       "<tr>\n",
       "  <th>No. Iterations:</th>          <td>6</td>        <th>                     </th>     <td> </td>   \n",
       "</tr>\n",
       "<tr>\n",
       "  <th>Covariance Type:</th>     <td>nonrobust</td>    <th>                     </th>     <td> </td>   \n",
       "</tr>\n",
       "</table>\n",
       "<table class=\"simpletable\">\n",
       "<tr>\n",
       "                            <td></td>                              <th>coef</th>     <th>std err</th>      <th>z</th>      <th>P>|z|</th>  <th>[0.025</th>    <th>0.975]</th>  \n",
       "</tr>\n",
       "<tr>\n",
       "  <th>const</th>                                                <td>   -0.6192</td> <td>    0.039</td> <td>  -15.877</td> <td> 0.000</td> <td>   -0.696</td> <td>   -0.543</td>\n",
       "</tr>\n",
       "<tr>\n",
       "  <th>Do Not Email</th>                                         <td>   -0.3048</td> <td>    0.046</td> <td>   -6.665</td> <td> 0.000</td> <td>   -0.394</td> <td>   -0.215</td>\n",
       "</tr>\n",
       "<tr>\n",
       "  <th>TotalVisits</th>                                          <td>    0.1609</td> <td>    0.061</td> <td>    2.632</td> <td> 0.008</td> <td>    0.041</td> <td>    0.281</td>\n",
       "</tr>\n",
       "<tr>\n",
       "  <th>Total Time Spent on Website</th>                          <td>    1.0309</td> <td>    0.043</td> <td>   23.849</td> <td> 0.000</td> <td>    0.946</td> <td>    1.116</td>\n",
       "</tr>\n",
       "<tr>\n",
       "  <th>Page Views Per Visit</th>                                 <td>   -0.1959</td> <td>    0.072</td> <td>   -2.709</td> <td> 0.007</td> <td>   -0.338</td> <td>   -0.054</td>\n",
       "</tr>\n",
       "<tr>\n",
       "  <th>Lead Origin_Landing Page Submission</th>                  <td>   -0.1106</td> <td>    0.063</td> <td>   -1.763</td> <td> 0.078</td> <td>   -0.234</td> <td>    0.012</td>\n",
       "</tr>\n",
       "<tr>\n",
       "  <th>Lead Origin_Other</th>                                    <td>    0.9226</td> <td>    0.069</td> <td>   13.353</td> <td> 0.000</td> <td>    0.787</td> <td>    1.058</td>\n",
       "</tr>\n",
       "<tr>\n",
       "  <th>Lead Source_Google</th>                                   <td>    0.1901</td> <td>    0.048</td> <td>    3.995</td> <td> 0.000</td> <td>    0.097</td> <td>    0.283</td>\n",
       "</tr>\n",
       "<tr>\n",
       "  <th>Lead Source_Olark Chat</th>                               <td>    0.5518</td> <td>    0.069</td> <td>    7.980</td> <td> 0.000</td> <td>    0.416</td> <td>    0.687</td>\n",
       "</tr>\n",
       "<tr>\n",
       "  <th>Lead Source_Organic Search</th>                           <td>    0.0692</td> <td>    0.042</td> <td>    1.662</td> <td> 0.097</td> <td>   -0.012</td> <td>    0.151</td>\n",
       "</tr>\n",
       "<tr>\n",
       "  <th>Lead Source_Reference</th>                                <td>    0.1513</td> <td>    0.069</td> <td>    2.199</td> <td> 0.028</td> <td>    0.016</td> <td>    0.286</td>\n",
       "</tr>\n",
       "<tr>\n",
       "  <th>Specialization_Finance Management</th>                    <td>   -0.2647</td> <td>    0.051</td> <td>   -5.230</td> <td> 0.000</td> <td>   -0.364</td> <td>   -0.165</td>\n",
       "</tr>\n",
       "<tr>\n",
       "  <th>Specialization_Human Resource Management</th>             <td>   -0.0707</td> <td>    0.038</td> <td>   -1.878</td> <td> 0.060</td> <td>   -0.144</td> <td>    0.003</td>\n",
       "</tr>\n",
       "<tr>\n",
       "  <th>What is your current occupation_Unemployed</th>           <td>    0.6000</td> <td>    0.043</td> <td>   14.024</td> <td> 0.000</td> <td>    0.516</td> <td>    0.684</td>\n",
       "</tr>\n",
       "<tr>\n",
       "  <th>What is your current occupation_Working Professional</th> <td>    0.9291</td> <td>    0.054</td> <td>   17.230</td> <td> 0.000</td> <td>    0.823</td> <td>    1.035</td>\n",
       "</tr>\n",
       "<tr>\n",
       "  <th>City_Other</th>                                           <td>    0.0417</td> <td>    0.038</td> <td>    1.084</td> <td> 0.279</td> <td>   -0.034</td> <td>    0.117</td>\n",
       "</tr>\n",
       "</table>"
      ],
      "text/plain": [
       "<class 'statsmodels.iolib.summary.Summary'>\n",
       "\"\"\"\n",
       "                 Generalized Linear Model Regression Results                  \n",
       "==============================================================================\n",
       "Dep. Variable:              Converted   No. Observations:                 5285\n",
       "Model:                            GLM   Df Residuals:                     5269\n",
       "Model Family:                Binomial   Df Model:                           15\n",
       "Link Function:                  logit   Scale:                          1.0000\n",
       "Method:                          IRLS   Log-Likelihood:                -2399.4\n",
       "Date:                Mon, 07 Dec 2020   Deviance:                       4798.9\n",
       "Time:                        23:30:42   Pearson chi2:                 5.85e+03\n",
       "No. Iterations:                     6                                         \n",
       "Covariance Type:            nonrobust                                         \n",
       "========================================================================================================================\n",
       "                                                           coef    std err          z      P>|z|      [0.025      0.975]\n",
       "------------------------------------------------------------------------------------------------------------------------\n",
       "const                                                   -0.6192      0.039    -15.877      0.000      -0.696      -0.543\n",
       "Do Not Email                                            -0.3048      0.046     -6.665      0.000      -0.394      -0.215\n",
       "TotalVisits                                              0.1609      0.061      2.632      0.008       0.041       0.281\n",
       "Total Time Spent on Website                              1.0309      0.043     23.849      0.000       0.946       1.116\n",
       "Page Views Per Visit                                    -0.1959      0.072     -2.709      0.007      -0.338      -0.054\n",
       "Lead Origin_Landing Page Submission                     -0.1106      0.063     -1.763      0.078      -0.234       0.012\n",
       "Lead Origin_Other                                        0.9226      0.069     13.353      0.000       0.787       1.058\n",
       "Lead Source_Google                                       0.1901      0.048      3.995      0.000       0.097       0.283\n",
       "Lead Source_Olark Chat                                   0.5518      0.069      7.980      0.000       0.416       0.687\n",
       "Lead Source_Organic Search                               0.0692      0.042      1.662      0.097      -0.012       0.151\n",
       "Lead Source_Reference                                    0.1513      0.069      2.199      0.028       0.016       0.286\n",
       "Specialization_Finance Management                       -0.2647      0.051     -5.230      0.000      -0.364      -0.165\n",
       "Specialization_Human Resource Management                -0.0707      0.038     -1.878      0.060      -0.144       0.003\n",
       "What is your current occupation_Unemployed               0.6000      0.043     14.024      0.000       0.516       0.684\n",
       "What is your current occupation_Working Professional     0.9291      0.054     17.230      0.000       0.823       1.035\n",
       "City_Other                                               0.0417      0.038      1.084      0.279      -0.034       0.117\n",
       "========================================================================================================================\n",
       "\"\"\""
      ]
     },
     "execution_count": 74,
     "metadata": {},
     "output_type": "execute_result"
    }
   ],
   "source": [
    "logm3 = sm.GLM(y_train,sm.add_constant(X_train_3), family = sm.families.Binomial())\n",
    "res = logm3.fit()\n",
    "res.summary()"
   ]
  },
  {
   "cell_type": "code",
   "execution_count": 75,
   "metadata": {},
   "outputs": [
    {
     "data": {
      "text/plain": [
       "0.7894039735099337"
      ]
     },
     "execution_count": 75,
     "metadata": {},
     "output_type": "execute_result"
    }
   ],
   "source": [
    "get_accuracy_score(res,X_train_3)"
   ]
  },
  {
   "cell_type": "code",
   "execution_count": 76,
   "metadata": {},
   "outputs": [
    {
     "data": {
      "text/html": [
       "<div>\n",
       "<style scoped>\n",
       "    .dataframe tbody tr th:only-of-type {\n",
       "        vertical-align: middle;\n",
       "    }\n",
       "\n",
       "    .dataframe tbody tr th {\n",
       "        vertical-align: top;\n",
       "    }\n",
       "\n",
       "    .dataframe thead th {\n",
       "        text-align: right;\n",
       "    }\n",
       "</style>\n",
       "<table border=\"1\" class=\"dataframe\">\n",
       "  <thead>\n",
       "    <tr style=\"text-align: right;\">\n",
       "      <th></th>\n",
       "      <th>Features</th>\n",
       "      <th>VIF</th>\n",
       "    </tr>\n",
       "  </thead>\n",
       "  <tbody>\n",
       "    <tr>\n",
       "      <th>3</th>\n",
       "      <td>Page Views Per Visit</td>\n",
       "      <td>4.07</td>\n",
       "    </tr>\n",
       "    <tr>\n",
       "      <th>5</th>\n",
       "      <td>Lead Origin_Other</td>\n",
       "      <td>3.87</td>\n",
       "    </tr>\n",
       "    <tr>\n",
       "      <th>7</th>\n",
       "      <td>Lead Source_Olark Chat</td>\n",
       "      <td>3.50</td>\n",
       "    </tr>\n",
       "    <tr>\n",
       "      <th>4</th>\n",
       "      <td>Lead Origin_Landing Page Submission</td>\n",
       "      <td>3.11</td>\n",
       "    </tr>\n",
       "    <tr>\n",
       "      <th>1</th>\n",
       "      <td>TotalVisits</td>\n",
       "      <td>3.05</td>\n",
       "    </tr>\n",
       "    <tr>\n",
       "      <th>9</th>\n",
       "      <td>Lead Source_Reference</td>\n",
       "      <td>3.05</td>\n",
       "    </tr>\n",
       "    <tr>\n",
       "      <th>10</th>\n",
       "      <td>Specialization_Finance Management</td>\n",
       "      <td>1.95</td>\n",
       "    </tr>\n",
       "    <tr>\n",
       "      <th>6</th>\n",
       "      <td>Lead Source_Google</td>\n",
       "      <td>1.80</td>\n",
       "    </tr>\n",
       "    <tr>\n",
       "      <th>8</th>\n",
       "      <td>Lead Source_Organic Search</td>\n",
       "      <td>1.40</td>\n",
       "    </tr>\n",
       "    <tr>\n",
       "      <th>13</th>\n",
       "      <td>What is your current occupation_Working Profes...</td>\n",
       "      <td>1.36</td>\n",
       "    </tr>\n",
       "    <tr>\n",
       "      <th>2</th>\n",
       "      <td>Total Time Spent on Website</td>\n",
       "      <td>1.35</td>\n",
       "    </tr>\n",
       "    <tr>\n",
       "      <th>12</th>\n",
       "      <td>What is your current occupation_Unemployed</td>\n",
       "      <td>1.25</td>\n",
       "    </tr>\n",
       "    <tr>\n",
       "      <th>14</th>\n",
       "      <td>City_Other</td>\n",
       "      <td>1.18</td>\n",
       "    </tr>\n",
       "    <tr>\n",
       "      <th>11</th>\n",
       "      <td>Specialization_Human Resource Management</td>\n",
       "      <td>1.12</td>\n",
       "    </tr>\n",
       "    <tr>\n",
       "      <th>0</th>\n",
       "      <td>Do Not Email</td>\n",
       "      <td>1.04</td>\n",
       "    </tr>\n",
       "  </tbody>\n",
       "</table>\n",
       "</div>"
      ],
      "text/plain": [
       "                                             Features   VIF\n",
       "3                                Page Views Per Visit  4.07\n",
       "5                                   Lead Origin_Other  3.87\n",
       "7                              Lead Source_Olark Chat  3.50\n",
       "4                 Lead Origin_Landing Page Submission  3.11\n",
       "1                                         TotalVisits  3.05\n",
       "9                               Lead Source_Reference  3.05\n",
       "10                  Specialization_Finance Management  1.95\n",
       "6                                  Lead Source_Google  1.80\n",
       "8                          Lead Source_Organic Search  1.40\n",
       "13  What is your current occupation_Working Profes...  1.36\n",
       "2                         Total Time Spent on Website  1.35\n",
       "12         What is your current occupation_Unemployed  1.25\n",
       "14                                         City_Other  1.18\n",
       "11           Specialization_Human Resource Management  1.12\n",
       "0                                        Do Not Email  1.04"
      ]
     },
     "execution_count": 76,
     "metadata": {},
     "output_type": "execute_result"
    }
   ],
   "source": [
    "get_vif(X_train_3)"
   ]
  },
  {
   "cell_type": "markdown",
   "metadata": {},
   "source": [
    "- `City_Other` has a high p value of 0.279, so drop it."
   ]
  },
  {
   "cell_type": "code",
   "execution_count": 77,
   "metadata": {},
   "outputs": [],
   "source": [
    "X_train_4 = X_train_3.drop(columns=\"City_Other\")"
   ]
  },
  {
   "cell_type": "code",
   "execution_count": 78,
   "metadata": {},
   "outputs": [
    {
     "data": {
      "text/html": [
       "<table class=\"simpletable\">\n",
       "<caption>Generalized Linear Model Regression Results</caption>\n",
       "<tr>\n",
       "  <th>Dep. Variable:</th>       <td>Converted</td>    <th>  No. Observations:  </th>  <td>  5285</td> \n",
       "</tr>\n",
       "<tr>\n",
       "  <th>Model:</th>                  <td>GLM</td>       <th>  Df Residuals:      </th>  <td>  5270</td> \n",
       "</tr>\n",
       "<tr>\n",
       "  <th>Model Family:</th>        <td>Binomial</td>     <th>  Df Model:          </th>  <td>    14</td> \n",
       "</tr>\n",
       "<tr>\n",
       "  <th>Link Function:</th>         <td>logit</td>      <th>  Scale:             </th> <td>  1.0000</td>\n",
       "</tr>\n",
       "<tr>\n",
       "  <th>Method:</th>                <td>IRLS</td>       <th>  Log-Likelihood:    </th> <td> -2400.0</td>\n",
       "</tr>\n",
       "<tr>\n",
       "  <th>Date:</th>            <td>Mon, 07 Dec 2020</td> <th>  Deviance:          </th> <td>  4800.0</td>\n",
       "</tr>\n",
       "<tr>\n",
       "  <th>Time:</th>                <td>23:30:43</td>     <th>  Pearson chi2:      </th> <td>5.83e+03</td>\n",
       "</tr>\n",
       "<tr>\n",
       "  <th>No. Iterations:</th>          <td>6</td>        <th>                     </th>     <td> </td>   \n",
       "</tr>\n",
       "<tr>\n",
       "  <th>Covariance Type:</th>     <td>nonrobust</td>    <th>                     </th>     <td> </td>   \n",
       "</tr>\n",
       "</table>\n",
       "<table class=\"simpletable\">\n",
       "<tr>\n",
       "                            <td></td>                              <th>coef</th>     <th>std err</th>      <th>z</th>      <th>P>|z|</th>  <th>[0.025</th>    <th>0.975]</th>  \n",
       "</tr>\n",
       "<tr>\n",
       "  <th>const</th>                                                <td>   -0.6189</td> <td>    0.039</td> <td>  -15.870</td> <td> 0.000</td> <td>   -0.695</td> <td>   -0.542</td>\n",
       "</tr>\n",
       "<tr>\n",
       "  <th>Do Not Email</th>                                         <td>   -0.3050</td> <td>    0.046</td> <td>   -6.670</td> <td> 0.000</td> <td>   -0.395</td> <td>   -0.215</td>\n",
       "</tr>\n",
       "<tr>\n",
       "  <th>TotalVisits</th>                                          <td>    0.1596</td> <td>    0.061</td> <td>    2.612</td> <td> 0.009</td> <td>    0.040</td> <td>    0.279</td>\n",
       "</tr>\n",
       "<tr>\n",
       "  <th>Total Time Spent on Website</th>                          <td>    1.0323</td> <td>    0.043</td> <td>   23.892</td> <td> 0.000</td> <td>    0.948</td> <td>    1.117</td>\n",
       "</tr>\n",
       "<tr>\n",
       "  <th>Page Views Per Visit</th>                                 <td>   -0.1941</td> <td>    0.072</td> <td>   -2.686</td> <td> 0.007</td> <td>   -0.336</td> <td>   -0.052</td>\n",
       "</tr>\n",
       "<tr>\n",
       "  <th>Lead Origin_Landing Page Submission</th>                  <td>   -0.1037</td> <td>    0.062</td> <td>   -1.662</td> <td> 0.097</td> <td>   -0.226</td> <td>    0.019</td>\n",
       "</tr>\n",
       "<tr>\n",
       "  <th>Lead Origin_Other</th>                                    <td>    0.9242</td> <td>    0.069</td> <td>   13.382</td> <td> 0.000</td> <td>    0.789</td> <td>    1.060</td>\n",
       "</tr>\n",
       "<tr>\n",
       "  <th>Lead Source_Google</th>                                   <td>    0.1826</td> <td>    0.047</td> <td>    3.880</td> <td> 0.000</td> <td>    0.090</td> <td>    0.275</td>\n",
       "</tr>\n",
       "<tr>\n",
       "  <th>Lead Source_Olark Chat</th>                               <td>    0.5488</td> <td>    0.069</td> <td>    7.947</td> <td> 0.000</td> <td>    0.413</td> <td>    0.684</td>\n",
       "</tr>\n",
       "<tr>\n",
       "  <th>Lead Source_Organic Search</th>                           <td>    0.0694</td> <td>    0.042</td> <td>    1.667</td> <td> 0.096</td> <td>   -0.012</td> <td>    0.151</td>\n",
       "</tr>\n",
       "<tr>\n",
       "  <th>Lead Source_Reference</th>                                <td>    0.1474</td> <td>    0.069</td> <td>    2.145</td> <td> 0.032</td> <td>    0.013</td> <td>    0.282</td>\n",
       "</tr>\n",
       "<tr>\n",
       "  <th>Specialization_Finance Management</th>                    <td>   -0.2725</td> <td>    0.050</td> <td>   -5.438</td> <td> 0.000</td> <td>   -0.371</td> <td>   -0.174</td>\n",
       "</tr>\n",
       "<tr>\n",
       "  <th>Specialization_Human Resource Management</th>             <td>   -0.0718</td> <td>    0.038</td> <td>   -1.908</td> <td> 0.056</td> <td>   -0.145</td> <td>    0.002</td>\n",
       "</tr>\n",
       "<tr>\n",
       "  <th>What is your current occupation_Unemployed</th>           <td>    0.6004</td> <td>    0.043</td> <td>   14.031</td> <td> 0.000</td> <td>    0.517</td> <td>    0.684</td>\n",
       "</tr>\n",
       "<tr>\n",
       "  <th>What is your current occupation_Working Professional</th> <td>    0.9295</td> <td>    0.054</td> <td>   17.225</td> <td> 0.000</td> <td>    0.824</td> <td>    1.035</td>\n",
       "</tr>\n",
       "</table>"
      ],
      "text/plain": [
       "<class 'statsmodels.iolib.summary.Summary'>\n",
       "\"\"\"\n",
       "                 Generalized Linear Model Regression Results                  \n",
       "==============================================================================\n",
       "Dep. Variable:              Converted   No. Observations:                 5285\n",
       "Model:                            GLM   Df Residuals:                     5270\n",
       "Model Family:                Binomial   Df Model:                           14\n",
       "Link Function:                  logit   Scale:                          1.0000\n",
       "Method:                          IRLS   Log-Likelihood:                -2400.0\n",
       "Date:                Mon, 07 Dec 2020   Deviance:                       4800.0\n",
       "Time:                        23:30:43   Pearson chi2:                 5.83e+03\n",
       "No. Iterations:                     6                                         \n",
       "Covariance Type:            nonrobust                                         \n",
       "========================================================================================================================\n",
       "                                                           coef    std err          z      P>|z|      [0.025      0.975]\n",
       "------------------------------------------------------------------------------------------------------------------------\n",
       "const                                                   -0.6189      0.039    -15.870      0.000      -0.695      -0.542\n",
       "Do Not Email                                            -0.3050      0.046     -6.670      0.000      -0.395      -0.215\n",
       "TotalVisits                                              0.1596      0.061      2.612      0.009       0.040       0.279\n",
       "Total Time Spent on Website                              1.0323      0.043     23.892      0.000       0.948       1.117\n",
       "Page Views Per Visit                                    -0.1941      0.072     -2.686      0.007      -0.336      -0.052\n",
       "Lead Origin_Landing Page Submission                     -0.1037      0.062     -1.662      0.097      -0.226       0.019\n",
       "Lead Origin_Other                                        0.9242      0.069     13.382      0.000       0.789       1.060\n",
       "Lead Source_Google                                       0.1826      0.047      3.880      0.000       0.090       0.275\n",
       "Lead Source_Olark Chat                                   0.5488      0.069      7.947      0.000       0.413       0.684\n",
       "Lead Source_Organic Search                               0.0694      0.042      1.667      0.096      -0.012       0.151\n",
       "Lead Source_Reference                                    0.1474      0.069      2.145      0.032       0.013       0.282\n",
       "Specialization_Finance Management                       -0.2725      0.050     -5.438      0.000      -0.371      -0.174\n",
       "Specialization_Human Resource Management                -0.0718      0.038     -1.908      0.056      -0.145       0.002\n",
       "What is your current occupation_Unemployed               0.6004      0.043     14.031      0.000       0.517       0.684\n",
       "What is your current occupation_Working Professional     0.9295      0.054     17.225      0.000       0.824       1.035\n",
       "========================================================================================================================\n",
       "\"\"\""
      ]
     },
     "execution_count": 78,
     "metadata": {},
     "output_type": "execute_result"
    }
   ],
   "source": [
    "logm4 = sm.GLM(y_train,sm.add_constant(X_train_4), family = sm.families.Binomial())\n",
    "res = logm4.fit()\n",
    "res.summary()"
   ]
  },
  {
   "cell_type": "code",
   "execution_count": 79,
   "metadata": {},
   "outputs": [
    {
     "data": {
      "text/plain": [
       "0.7892147587511826"
      ]
     },
     "execution_count": 79,
     "metadata": {},
     "output_type": "execute_result"
    }
   ],
   "source": [
    "get_accuracy_score(res,X_train_4)"
   ]
  },
  {
   "cell_type": "code",
   "execution_count": 80,
   "metadata": {},
   "outputs": [
    {
     "data": {
      "text/html": [
       "<div>\n",
       "<style scoped>\n",
       "    .dataframe tbody tr th:only-of-type {\n",
       "        vertical-align: middle;\n",
       "    }\n",
       "\n",
       "    .dataframe tbody tr th {\n",
       "        vertical-align: top;\n",
       "    }\n",
       "\n",
       "    .dataframe thead th {\n",
       "        text-align: right;\n",
       "    }\n",
       "</style>\n",
       "<table border=\"1\" class=\"dataframe\">\n",
       "  <thead>\n",
       "    <tr style=\"text-align: right;\">\n",
       "      <th></th>\n",
       "      <th>Features</th>\n",
       "      <th>VIF</th>\n",
       "    </tr>\n",
       "  </thead>\n",
       "  <tbody>\n",
       "    <tr>\n",
       "      <th>3</th>\n",
       "      <td>Page Views Per Visit</td>\n",
       "      <td>4.07</td>\n",
       "    </tr>\n",
       "    <tr>\n",
       "      <th>5</th>\n",
       "      <td>Lead Origin_Other</td>\n",
       "      <td>3.87</td>\n",
       "    </tr>\n",
       "    <tr>\n",
       "      <th>7</th>\n",
       "      <td>Lead Source_Olark Chat</td>\n",
       "      <td>3.50</td>\n",
       "    </tr>\n",
       "    <tr>\n",
       "      <th>4</th>\n",
       "      <td>Lead Origin_Landing Page Submission</td>\n",
       "      <td>3.07</td>\n",
       "    </tr>\n",
       "    <tr>\n",
       "      <th>1</th>\n",
       "      <td>TotalVisits</td>\n",
       "      <td>3.05</td>\n",
       "    </tr>\n",
       "    <tr>\n",
       "      <th>9</th>\n",
       "      <td>Lead Source_Reference</td>\n",
       "      <td>3.04</td>\n",
       "    </tr>\n",
       "    <tr>\n",
       "      <th>10</th>\n",
       "      <td>Specialization_Finance Management</td>\n",
       "      <td>1.92</td>\n",
       "    </tr>\n",
       "    <tr>\n",
       "      <th>6</th>\n",
       "      <td>Lead Source_Google</td>\n",
       "      <td>1.77</td>\n",
       "    </tr>\n",
       "    <tr>\n",
       "      <th>8</th>\n",
       "      <td>Lead Source_Organic Search</td>\n",
       "      <td>1.40</td>\n",
       "    </tr>\n",
       "    <tr>\n",
       "      <th>13</th>\n",
       "      <td>What is your current occupation_Working Profes...</td>\n",
       "      <td>1.36</td>\n",
       "    </tr>\n",
       "    <tr>\n",
       "      <th>2</th>\n",
       "      <td>Total Time Spent on Website</td>\n",
       "      <td>1.35</td>\n",
       "    </tr>\n",
       "    <tr>\n",
       "      <th>12</th>\n",
       "      <td>What is your current occupation_Unemployed</td>\n",
       "      <td>1.25</td>\n",
       "    </tr>\n",
       "    <tr>\n",
       "      <th>11</th>\n",
       "      <td>Specialization_Human Resource Management</td>\n",
       "      <td>1.12</td>\n",
       "    </tr>\n",
       "    <tr>\n",
       "      <th>0</th>\n",
       "      <td>Do Not Email</td>\n",
       "      <td>1.04</td>\n",
       "    </tr>\n",
       "  </tbody>\n",
       "</table>\n",
       "</div>"
      ],
      "text/plain": [
       "                                             Features   VIF\n",
       "3                                Page Views Per Visit  4.07\n",
       "5                                   Lead Origin_Other  3.87\n",
       "7                              Lead Source_Olark Chat  3.50\n",
       "4                 Lead Origin_Landing Page Submission  3.07\n",
       "1                                         TotalVisits  3.05\n",
       "9                               Lead Source_Reference  3.04\n",
       "10                  Specialization_Finance Management  1.92\n",
       "6                                  Lead Source_Google  1.77\n",
       "8                          Lead Source_Organic Search  1.40\n",
       "13  What is your current occupation_Working Profes...  1.36\n",
       "2                         Total Time Spent on Website  1.35\n",
       "12         What is your current occupation_Unemployed  1.25\n",
       "11           Specialization_Human Resource Management  1.12\n",
       "0                                        Do Not Email  1.04"
      ]
     },
     "execution_count": 80,
     "metadata": {},
     "output_type": "execute_result"
    }
   ],
   "source": [
    "get_vif(X_train_4)"
   ]
  },
  {
   "cell_type": "markdown",
   "metadata": {},
   "source": [
    "- `Lead Origin_Landing Page Submission` has a high p value of 0.097, so drop it"
   ]
  },
  {
   "cell_type": "code",
   "execution_count": 81,
   "metadata": {},
   "outputs": [],
   "source": [
    "X_train_5 = X_train_4.drop(columns=\"Lead Origin_Landing Page Submission\")"
   ]
  },
  {
   "cell_type": "code",
   "execution_count": 82,
   "metadata": {},
   "outputs": [
    {
     "data": {
      "text/html": [
       "<table class=\"simpletable\">\n",
       "<caption>Generalized Linear Model Regression Results</caption>\n",
       "<tr>\n",
       "  <th>Dep. Variable:</th>       <td>Converted</td>    <th>  No. Observations:  </th>  <td>  5285</td> \n",
       "</tr>\n",
       "<tr>\n",
       "  <th>Model:</th>                  <td>GLM</td>       <th>  Df Residuals:      </th>  <td>  5271</td> \n",
       "</tr>\n",
       "<tr>\n",
       "  <th>Model Family:</th>        <td>Binomial</td>     <th>  Df Model:          </th>  <td>    13</td> \n",
       "</tr>\n",
       "<tr>\n",
       "  <th>Link Function:</th>         <td>logit</td>      <th>  Scale:             </th> <td>  1.0000</td>\n",
       "</tr>\n",
       "<tr>\n",
       "  <th>Method:</th>                <td>IRLS</td>       <th>  Log-Likelihood:    </th> <td> -2401.4</td>\n",
       "</tr>\n",
       "<tr>\n",
       "  <th>Date:</th>            <td>Mon, 07 Dec 2020</td> <th>  Deviance:          </th> <td>  4802.8</td>\n",
       "</tr>\n",
       "<tr>\n",
       "  <th>Time:</th>                <td>23:30:43</td>     <th>  Pearson chi2:      </th> <td>5.78e+03</td>\n",
       "</tr>\n",
       "<tr>\n",
       "  <th>No. Iterations:</th>          <td>6</td>        <th>                     </th>     <td> </td>   \n",
       "</tr>\n",
       "<tr>\n",
       "  <th>Covariance Type:</th>     <td>nonrobust</td>    <th>                     </th>     <td> </td>   \n",
       "</tr>\n",
       "</table>\n",
       "<table class=\"simpletable\">\n",
       "<tr>\n",
       "                            <td></td>                              <th>coef</th>     <th>std err</th>      <th>z</th>      <th>P>|z|</th>  <th>[0.025</th>    <th>0.975]</th>  \n",
       "</tr>\n",
       "<tr>\n",
       "  <th>const</th>                                                <td>   -0.6207</td> <td>    0.039</td> <td>  -15.923</td> <td> 0.000</td> <td>   -0.697</td> <td>   -0.544</td>\n",
       "</tr>\n",
       "<tr>\n",
       "  <th>Do Not Email</th>                                         <td>   -0.3073</td> <td>    0.046</td> <td>   -6.719</td> <td> 0.000</td> <td>   -0.397</td> <td>   -0.218</td>\n",
       "</tr>\n",
       "<tr>\n",
       "  <th>TotalVisits</th>                                          <td>    0.1590</td> <td>    0.061</td> <td>    2.603</td> <td> 0.009</td> <td>    0.039</td> <td>    0.279</td>\n",
       "</tr>\n",
       "<tr>\n",
       "  <th>Total Time Spent on Website</th>                          <td>    1.0363</td> <td>    0.043</td> <td>   24.005</td> <td> 0.000</td> <td>    0.952</td> <td>    1.121</td>\n",
       "</tr>\n",
       "<tr>\n",
       "  <th>Page Views Per Visit</th>                                 <td>   -0.2215</td> <td>    0.070</td> <td>   -3.144</td> <td> 0.002</td> <td>   -0.360</td> <td>   -0.083</td>\n",
       "</tr>\n",
       "<tr>\n",
       "  <th>Lead Origin_Other</th>                                    <td>    0.9536</td> <td>    0.067</td> <td>   14.271</td> <td> 0.000</td> <td>    0.823</td> <td>    1.085</td>\n",
       "</tr>\n",
       "<tr>\n",
       "  <th>Lead Source_Google</th>                                   <td>    0.2098</td> <td>    0.044</td> <td>    4.751</td> <td> 0.000</td> <td>    0.123</td> <td>    0.296</td>\n",
       "</tr>\n",
       "<tr>\n",
       "  <th>Lead Source_Olark Chat</th>                               <td>    0.5925</td> <td>    0.064</td> <td>    9.260</td> <td> 0.000</td> <td>    0.467</td> <td>    0.718</td>\n",
       "</tr>\n",
       "<tr>\n",
       "  <th>Lead Source_Organic Search</th>                           <td>    0.0909</td> <td>    0.040</td> <td>    2.296</td> <td> 0.022</td> <td>    0.013</td> <td>    0.168</td>\n",
       "</tr>\n",
       "<tr>\n",
       "  <th>Lead Source_Reference</th>                                <td>    0.1554</td> <td>    0.068</td> <td>    2.268</td> <td> 0.023</td> <td>    0.021</td> <td>    0.290</td>\n",
       "</tr>\n",
       "<tr>\n",
       "  <th>Specialization_Finance Management</th>                    <td>   -0.2346</td> <td>    0.044</td> <td>   -5.276</td> <td> 0.000</td> <td>   -0.322</td> <td>   -0.147</td>\n",
       "</tr>\n",
       "<tr>\n",
       "  <th>Specialization_Human Resource Management</th>             <td>   -0.0698</td> <td>    0.037</td> <td>   -1.861</td> <td> 0.063</td> <td>   -0.143</td> <td>    0.004</td>\n",
       "</tr>\n",
       "<tr>\n",
       "  <th>What is your current occupation_Unemployed</th>           <td>    0.6002</td> <td>    0.043</td> <td>   14.036</td> <td> 0.000</td> <td>    0.516</td> <td>    0.684</td>\n",
       "</tr>\n",
       "<tr>\n",
       "  <th>What is your current occupation_Working Professional</th> <td>    0.9298</td> <td>    0.054</td> <td>   17.263</td> <td> 0.000</td> <td>    0.824</td> <td>    1.035</td>\n",
       "</tr>\n",
       "</table>"
      ],
      "text/plain": [
       "<class 'statsmodels.iolib.summary.Summary'>\n",
       "\"\"\"\n",
       "                 Generalized Linear Model Regression Results                  \n",
       "==============================================================================\n",
       "Dep. Variable:              Converted   No. Observations:                 5285\n",
       "Model:                            GLM   Df Residuals:                     5271\n",
       "Model Family:                Binomial   Df Model:                           13\n",
       "Link Function:                  logit   Scale:                          1.0000\n",
       "Method:                          IRLS   Log-Likelihood:                -2401.4\n",
       "Date:                Mon, 07 Dec 2020   Deviance:                       4802.8\n",
       "Time:                        23:30:43   Pearson chi2:                 5.78e+03\n",
       "No. Iterations:                     6                                         \n",
       "Covariance Type:            nonrobust                                         \n",
       "========================================================================================================================\n",
       "                                                           coef    std err          z      P>|z|      [0.025      0.975]\n",
       "------------------------------------------------------------------------------------------------------------------------\n",
       "const                                                   -0.6207      0.039    -15.923      0.000      -0.697      -0.544\n",
       "Do Not Email                                            -0.3073      0.046     -6.719      0.000      -0.397      -0.218\n",
       "TotalVisits                                              0.1590      0.061      2.603      0.009       0.039       0.279\n",
       "Total Time Spent on Website                              1.0363      0.043     24.005      0.000       0.952       1.121\n",
       "Page Views Per Visit                                    -0.2215      0.070     -3.144      0.002      -0.360      -0.083\n",
       "Lead Origin_Other                                        0.9536      0.067     14.271      0.000       0.823       1.085\n",
       "Lead Source_Google                                       0.2098      0.044      4.751      0.000       0.123       0.296\n",
       "Lead Source_Olark Chat                                   0.5925      0.064      9.260      0.000       0.467       0.718\n",
       "Lead Source_Organic Search                               0.0909      0.040      2.296      0.022       0.013       0.168\n",
       "Lead Source_Reference                                    0.1554      0.068      2.268      0.023       0.021       0.290\n",
       "Specialization_Finance Management                       -0.2346      0.044     -5.276      0.000      -0.322      -0.147\n",
       "Specialization_Human Resource Management                -0.0698      0.037     -1.861      0.063      -0.143       0.004\n",
       "What is your current occupation_Unemployed               0.6002      0.043     14.036      0.000       0.516       0.684\n",
       "What is your current occupation_Working Professional     0.9298      0.054     17.263      0.000       0.824       1.035\n",
       "========================================================================================================================\n",
       "\"\"\""
      ]
     },
     "execution_count": 82,
     "metadata": {},
     "output_type": "execute_result"
    }
   ],
   "source": [
    "logm5 = sm.GLM(y_train,sm.add_constant(X_train_5), family = sm.families.Binomial())\n",
    "res = logm5.fit()\n",
    "res.summary()"
   ]
  },
  {
   "cell_type": "code",
   "execution_count": 83,
   "metadata": {},
   "outputs": [
    {
     "data": {
      "text/plain": [
       "0.7882686849574266"
      ]
     },
     "execution_count": 83,
     "metadata": {},
     "output_type": "execute_result"
    }
   ],
   "source": [
    "get_accuracy_score(res,X_train_5)"
   ]
  },
  {
   "cell_type": "code",
   "execution_count": 84,
   "metadata": {},
   "outputs": [
    {
     "data": {
      "text/html": [
       "<div>\n",
       "<style scoped>\n",
       "    .dataframe tbody tr th:only-of-type {\n",
       "        vertical-align: middle;\n",
       "    }\n",
       "\n",
       "    .dataframe tbody tr th {\n",
       "        vertical-align: top;\n",
       "    }\n",
       "\n",
       "    .dataframe thead th {\n",
       "        text-align: right;\n",
       "    }\n",
       "</style>\n",
       "<table border=\"1\" class=\"dataframe\">\n",
       "  <thead>\n",
       "    <tr style=\"text-align: right;\">\n",
       "      <th></th>\n",
       "      <th>Features</th>\n",
       "      <th>VIF</th>\n",
       "    </tr>\n",
       "  </thead>\n",
       "  <tbody>\n",
       "    <tr>\n",
       "      <th>3</th>\n",
       "      <td>Page Views Per Visit</td>\n",
       "      <td>3.87</td>\n",
       "    </tr>\n",
       "    <tr>\n",
       "      <th>4</th>\n",
       "      <td>Lead Origin_Other</td>\n",
       "      <td>3.59</td>\n",
       "    </tr>\n",
       "    <tr>\n",
       "      <th>1</th>\n",
       "      <td>TotalVisits</td>\n",
       "      <td>3.05</td>\n",
       "    </tr>\n",
       "    <tr>\n",
       "      <th>8</th>\n",
       "      <td>Lead Source_Reference</td>\n",
       "      <td>3.01</td>\n",
       "    </tr>\n",
       "    <tr>\n",
       "      <th>6</th>\n",
       "      <td>Lead Source_Olark Chat</td>\n",
       "      <td>2.92</td>\n",
       "    </tr>\n",
       "    <tr>\n",
       "      <th>5</th>\n",
       "      <td>Lead Source_Google</td>\n",
       "      <td>1.53</td>\n",
       "    </tr>\n",
       "    <tr>\n",
       "      <th>9</th>\n",
       "      <td>Specialization_Finance Management</td>\n",
       "      <td>1.53</td>\n",
       "    </tr>\n",
       "    <tr>\n",
       "      <th>12</th>\n",
       "      <td>What is your current occupation_Working Profes...</td>\n",
       "      <td>1.35</td>\n",
       "    </tr>\n",
       "    <tr>\n",
       "      <th>2</th>\n",
       "      <td>Total Time Spent on Website</td>\n",
       "      <td>1.34</td>\n",
       "    </tr>\n",
       "    <tr>\n",
       "      <th>7</th>\n",
       "      <td>Lead Source_Organic Search</td>\n",
       "      <td>1.26</td>\n",
       "    </tr>\n",
       "    <tr>\n",
       "      <th>11</th>\n",
       "      <td>What is your current occupation_Unemployed</td>\n",
       "      <td>1.25</td>\n",
       "    </tr>\n",
       "    <tr>\n",
       "      <th>10</th>\n",
       "      <td>Specialization_Human Resource Management</td>\n",
       "      <td>1.12</td>\n",
       "    </tr>\n",
       "    <tr>\n",
       "      <th>0</th>\n",
       "      <td>Do Not Email</td>\n",
       "      <td>1.03</td>\n",
       "    </tr>\n",
       "  </tbody>\n",
       "</table>\n",
       "</div>"
      ],
      "text/plain": [
       "                                             Features   VIF\n",
       "3                                Page Views Per Visit  3.87\n",
       "4                                   Lead Origin_Other  3.59\n",
       "1                                         TotalVisits  3.05\n",
       "8                               Lead Source_Reference  3.01\n",
       "6                              Lead Source_Olark Chat  2.92\n",
       "5                                  Lead Source_Google  1.53\n",
       "9                   Specialization_Finance Management  1.53\n",
       "12  What is your current occupation_Working Profes...  1.35\n",
       "2                         Total Time Spent on Website  1.34\n",
       "7                          Lead Source_Organic Search  1.26\n",
       "11         What is your current occupation_Unemployed  1.25\n",
       "10           Specialization_Human Resource Management  1.12\n",
       "0                                        Do Not Email  1.03"
      ]
     },
     "execution_count": 84,
     "metadata": {},
     "output_type": "execute_result"
    }
   ],
   "source": [
    "get_vif(X_train_5)"
   ]
  },
  {
   "cell_type": "markdown",
   "metadata": {},
   "source": [
    "- `Specialization_Human Resource Management` has a high p value of 0.063, so drop it."
   ]
  },
  {
   "cell_type": "code",
   "execution_count": 85,
   "metadata": {},
   "outputs": [],
   "source": [
    "X_train_6 = X_train_5.drop(columns=\"Specialization_Human Resource Management\")"
   ]
  },
  {
   "cell_type": "code",
   "execution_count": 86,
   "metadata": {},
   "outputs": [
    {
     "data": {
      "text/html": [
       "<table class=\"simpletable\">\n",
       "<caption>Generalized Linear Model Regression Results</caption>\n",
       "<tr>\n",
       "  <th>Dep. Variable:</th>       <td>Converted</td>    <th>  No. Observations:  </th>  <td>  5285</td> \n",
       "</tr>\n",
       "<tr>\n",
       "  <th>Model:</th>                  <td>GLM</td>       <th>  Df Residuals:      </th>  <td>  5272</td> \n",
       "</tr>\n",
       "<tr>\n",
       "  <th>Model Family:</th>        <td>Binomial</td>     <th>  Df Model:          </th>  <td>    12</td> \n",
       "</tr>\n",
       "<tr>\n",
       "  <th>Link Function:</th>         <td>logit</td>      <th>  Scale:             </th> <td>  1.0000</td>\n",
       "</tr>\n",
       "<tr>\n",
       "  <th>Method:</th>                <td>IRLS</td>       <th>  Log-Likelihood:    </th> <td> -2403.1</td>\n",
       "</tr>\n",
       "<tr>\n",
       "  <th>Date:</th>            <td>Mon, 07 Dec 2020</td> <th>  Deviance:          </th> <td>  4806.3</td>\n",
       "</tr>\n",
       "<tr>\n",
       "  <th>Time:</th>                <td>23:30:43</td>     <th>  Pearson chi2:      </th> <td>5.82e+03</td>\n",
       "</tr>\n",
       "<tr>\n",
       "  <th>No. Iterations:</th>          <td>6</td>        <th>                     </th>     <td> </td>   \n",
       "</tr>\n",
       "<tr>\n",
       "  <th>Covariance Type:</th>     <td>nonrobust</td>    <th>                     </th>     <td> </td>   \n",
       "</tr>\n",
       "</table>\n",
       "<table class=\"simpletable\">\n",
       "<tr>\n",
       "                            <td></td>                              <th>coef</th>     <th>std err</th>      <th>z</th>      <th>P>|z|</th>  <th>[0.025</th>    <th>0.975]</th>  \n",
       "</tr>\n",
       "<tr>\n",
       "  <th>const</th>                                                <td>   -0.6212</td> <td>    0.039</td> <td>  -15.937</td> <td> 0.000</td> <td>   -0.698</td> <td>   -0.545</td>\n",
       "</tr>\n",
       "<tr>\n",
       "  <th>Do Not Email</th>                                         <td>   -0.3051</td> <td>    0.046</td> <td>   -6.668</td> <td> 0.000</td> <td>   -0.395</td> <td>   -0.215</td>\n",
       "</tr>\n",
       "<tr>\n",
       "  <th>TotalVisits</th>                                          <td>    0.1586</td> <td>    0.061</td> <td>    2.600</td> <td> 0.009</td> <td>    0.039</td> <td>    0.278</td>\n",
       "</tr>\n",
       "<tr>\n",
       "  <th>Total Time Spent on Website</th>                          <td>    1.0348</td> <td>    0.043</td> <td>   24.008</td> <td> 0.000</td> <td>    0.950</td> <td>    1.119</td>\n",
       "</tr>\n",
       "<tr>\n",
       "  <th>Page Views Per Visit</th>                                 <td>   -0.2247</td> <td>    0.070</td> <td>   -3.191</td> <td> 0.001</td> <td>   -0.363</td> <td>   -0.087</td>\n",
       "</tr>\n",
       "<tr>\n",
       "  <th>Lead Origin_Other</th>                                    <td>    0.9489</td> <td>    0.067</td> <td>   14.213</td> <td> 0.000</td> <td>    0.818</td> <td>    1.080</td>\n",
       "</tr>\n",
       "<tr>\n",
       "  <th>Lead Source_Google</th>                                   <td>    0.2074</td> <td>    0.044</td> <td>    4.704</td> <td> 0.000</td> <td>    0.121</td> <td>    0.294</td>\n",
       "</tr>\n",
       "<tr>\n",
       "  <th>Lead Source_Olark Chat</th>                               <td>    0.5879</td> <td>    0.064</td> <td>    9.204</td> <td> 0.000</td> <td>    0.463</td> <td>    0.713</td>\n",
       "</tr>\n",
       "<tr>\n",
       "  <th>Lead Source_Organic Search</th>                           <td>    0.0919</td> <td>    0.040</td> <td>    2.322</td> <td> 0.020</td> <td>    0.014</td> <td>    0.169</td>\n",
       "</tr>\n",
       "<tr>\n",
       "  <th>Lead Source_Reference</th>                                <td>    0.1551</td> <td>    0.069</td> <td>    2.264</td> <td> 0.024</td> <td>    0.021</td> <td>    0.289</td>\n",
       "</tr>\n",
       "<tr>\n",
       "  <th>Specialization_Finance Management</th>                    <td>   -0.2113</td> <td>    0.043</td> <td>   -4.950</td> <td> 0.000</td> <td>   -0.295</td> <td>   -0.128</td>\n",
       "</tr>\n",
       "<tr>\n",
       "  <th>What is your current occupation_Unemployed</th>           <td>    0.5996</td> <td>    0.043</td> <td>   14.021</td> <td> 0.000</td> <td>    0.516</td> <td>    0.683</td>\n",
       "</tr>\n",
       "<tr>\n",
       "  <th>What is your current occupation_Working Professional</th> <td>    0.9287</td> <td>    0.054</td> <td>   17.255</td> <td> 0.000</td> <td>    0.823</td> <td>    1.034</td>\n",
       "</tr>\n",
       "</table>"
      ],
      "text/plain": [
       "<class 'statsmodels.iolib.summary.Summary'>\n",
       "\"\"\"\n",
       "                 Generalized Linear Model Regression Results                  \n",
       "==============================================================================\n",
       "Dep. Variable:              Converted   No. Observations:                 5285\n",
       "Model:                            GLM   Df Residuals:                     5272\n",
       "Model Family:                Binomial   Df Model:                           12\n",
       "Link Function:                  logit   Scale:                          1.0000\n",
       "Method:                          IRLS   Log-Likelihood:                -2403.1\n",
       "Date:                Mon, 07 Dec 2020   Deviance:                       4806.3\n",
       "Time:                        23:30:43   Pearson chi2:                 5.82e+03\n",
       "No. Iterations:                     6                                         \n",
       "Covariance Type:            nonrobust                                         \n",
       "========================================================================================================================\n",
       "                                                           coef    std err          z      P>|z|      [0.025      0.975]\n",
       "------------------------------------------------------------------------------------------------------------------------\n",
       "const                                                   -0.6212      0.039    -15.937      0.000      -0.698      -0.545\n",
       "Do Not Email                                            -0.3051      0.046     -6.668      0.000      -0.395      -0.215\n",
       "TotalVisits                                              0.1586      0.061      2.600      0.009       0.039       0.278\n",
       "Total Time Spent on Website                              1.0348      0.043     24.008      0.000       0.950       1.119\n",
       "Page Views Per Visit                                    -0.2247      0.070     -3.191      0.001      -0.363      -0.087\n",
       "Lead Origin_Other                                        0.9489      0.067     14.213      0.000       0.818       1.080\n",
       "Lead Source_Google                                       0.2074      0.044      4.704      0.000       0.121       0.294\n",
       "Lead Source_Olark Chat                                   0.5879      0.064      9.204      0.000       0.463       0.713\n",
       "Lead Source_Organic Search                               0.0919      0.040      2.322      0.020       0.014       0.169\n",
       "Lead Source_Reference                                    0.1551      0.069      2.264      0.024       0.021       0.289\n",
       "Specialization_Finance Management                       -0.2113      0.043     -4.950      0.000      -0.295      -0.128\n",
       "What is your current occupation_Unemployed               0.5996      0.043     14.021      0.000       0.516       0.683\n",
       "What is your current occupation_Working Professional     0.9287      0.054     17.255      0.000       0.823       1.034\n",
       "========================================================================================================================\n",
       "\"\"\""
      ]
     },
     "execution_count": 86,
     "metadata": {},
     "output_type": "execute_result"
    }
   ],
   "source": [
    "logm6 = sm.GLM(y_train,sm.add_constant(X_train_6), family = sm.families.Binomial())\n",
    "res = logm6.fit()\n",
    "res.summary()"
   ]
  },
  {
   "cell_type": "code",
   "execution_count": 87,
   "metadata": {},
   "outputs": [
    {
     "data": {
      "text/plain": [
       "0.7886471144749291"
      ]
     },
     "execution_count": 87,
     "metadata": {},
     "output_type": "execute_result"
    }
   ],
   "source": [
    "get_accuracy_score(res,X_train_6)"
   ]
  },
  {
   "cell_type": "code",
   "execution_count": 88,
   "metadata": {},
   "outputs": [
    {
     "data": {
      "text/html": [
       "<div>\n",
       "<style scoped>\n",
       "    .dataframe tbody tr th:only-of-type {\n",
       "        vertical-align: middle;\n",
       "    }\n",
       "\n",
       "    .dataframe tbody tr th {\n",
       "        vertical-align: top;\n",
       "    }\n",
       "\n",
       "    .dataframe thead th {\n",
       "        text-align: right;\n",
       "    }\n",
       "</style>\n",
       "<table border=\"1\" class=\"dataframe\">\n",
       "  <thead>\n",
       "    <tr style=\"text-align: right;\">\n",
       "      <th></th>\n",
       "      <th>Features</th>\n",
       "      <th>VIF</th>\n",
       "    </tr>\n",
       "  </thead>\n",
       "  <tbody>\n",
       "    <tr>\n",
       "      <th>3</th>\n",
       "      <td>Page Views Per Visit</td>\n",
       "      <td>3.87</td>\n",
       "    </tr>\n",
       "    <tr>\n",
       "      <th>4</th>\n",
       "      <td>Lead Origin_Other</td>\n",
       "      <td>3.58</td>\n",
       "    </tr>\n",
       "    <tr>\n",
       "      <th>1</th>\n",
       "      <td>TotalVisits</td>\n",
       "      <td>3.05</td>\n",
       "    </tr>\n",
       "    <tr>\n",
       "      <th>8</th>\n",
       "      <td>Lead Source_Reference</td>\n",
       "      <td>3.01</td>\n",
       "    </tr>\n",
       "    <tr>\n",
       "      <th>6</th>\n",
       "      <td>Lead Source_Olark Chat</td>\n",
       "      <td>2.92</td>\n",
       "    </tr>\n",
       "    <tr>\n",
       "      <th>5</th>\n",
       "      <td>Lead Source_Google</td>\n",
       "      <td>1.53</td>\n",
       "    </tr>\n",
       "    <tr>\n",
       "      <th>9</th>\n",
       "      <td>Specialization_Finance Management</td>\n",
       "      <td>1.41</td>\n",
       "    </tr>\n",
       "    <tr>\n",
       "      <th>11</th>\n",
       "      <td>What is your current occupation_Working Profes...</td>\n",
       "      <td>1.35</td>\n",
       "    </tr>\n",
       "    <tr>\n",
       "      <th>2</th>\n",
       "      <td>Total Time Spent on Website</td>\n",
       "      <td>1.34</td>\n",
       "    </tr>\n",
       "    <tr>\n",
       "      <th>7</th>\n",
       "      <td>Lead Source_Organic Search</td>\n",
       "      <td>1.26</td>\n",
       "    </tr>\n",
       "    <tr>\n",
       "      <th>10</th>\n",
       "      <td>What is your current occupation_Unemployed</td>\n",
       "      <td>1.25</td>\n",
       "    </tr>\n",
       "    <tr>\n",
       "      <th>0</th>\n",
       "      <td>Do Not Email</td>\n",
       "      <td>1.03</td>\n",
       "    </tr>\n",
       "  </tbody>\n",
       "</table>\n",
       "</div>"
      ],
      "text/plain": [
       "                                             Features   VIF\n",
       "3                                Page Views Per Visit  3.87\n",
       "4                                   Lead Origin_Other  3.58\n",
       "1                                         TotalVisits  3.05\n",
       "8                               Lead Source_Reference  3.01\n",
       "6                              Lead Source_Olark Chat  2.92\n",
       "5                                  Lead Source_Google  1.53\n",
       "9                   Specialization_Finance Management  1.41\n",
       "11  What is your current occupation_Working Profes...  1.35\n",
       "2                         Total Time Spent on Website  1.34\n",
       "7                          Lead Source_Organic Search  1.26\n",
       "10         What is your current occupation_Unemployed  1.25\n",
       "0                                        Do Not Email  1.03"
      ]
     },
     "execution_count": 88,
     "metadata": {},
     "output_type": "execute_result"
    }
   ],
   "source": [
    "get_vif(X_train_6)"
   ]
  },
  {
   "cell_type": "markdown",
   "metadata": {},
   "source": [
    "- We can see that `vif` and `p values` of the features in the final model have been stabilized, so we can now end the feature selection process."
   ]
  },
  {
   "cell_type": "markdown",
   "metadata": {},
   "source": [
    "## Analyze the final result on the train data"
   ]
  },
  {
   "cell_type": "code",
   "execution_count": 89,
   "metadata": {},
   "outputs": [],
   "source": [
    "final_res = res\n",
    "X_train_final = X_train_6"
   ]
  },
  {
   "cell_type": "code",
   "execution_count": 90,
   "metadata": {},
   "outputs": [],
   "source": [
    "from sklearn.metrics import confusion_matrix\n",
    "from sklearn.metrics import roc_auc_score\n",
    "from sklearn.metrics import roc_curve"
   ]
  },
  {
   "cell_type": "code",
   "execution_count": 91,
   "metadata": {},
   "outputs": [],
   "source": [
    "y_train_pred_prob = final_res.predict(sm.add_constant(X_train_final))\n",
    "y_train_pred_final = (y_train_pred_prob>0.5).astype(int)\n",
    "confusion = confusion_matrix(y_train,y_train_pred_final)"
   ]
  },
  {
   "cell_type": "code",
   "execution_count": 92,
   "metadata": {},
   "outputs": [
    {
     "data": {
      "text/plain": [
       "0.7886471144749291"
      ]
     },
     "execution_count": 92,
     "metadata": {},
     "output_type": "execute_result"
    }
   ],
   "source": [
    "#Overall accuracy\n",
    "get_accuracy_score(final_res,X_train_final)"
   ]
  },
  {
   "cell_type": "code",
   "execution_count": 93,
   "metadata": {},
   "outputs": [],
   "source": [
    "TP = confusion[1,1] # true positive \n",
    "TN = confusion[0,0] # true negatives\n",
    "FP = confusion[0,1] # false positives\n",
    "FN = confusion[1,0] # false negatives"
   ]
  },
  {
   "cell_type": "code",
   "execution_count": 94,
   "metadata": {},
   "outputs": [
    {
     "data": {
      "text/plain": [
       "array([[2938,  373],\n",
       "       [ 744, 1230]], dtype=int64)"
      ]
     },
     "execution_count": 94,
     "metadata": {},
     "output_type": "execute_result"
    }
   ],
   "source": [
    "confusion"
   ]
  },
  {
   "cell_type": "code",
   "execution_count": 95,
   "metadata": {},
   "outputs": [
    {
     "data": {
      "text/plain": [
       "0.6231003039513677"
      ]
     },
     "execution_count": 95,
     "metadata": {},
     "output_type": "execute_result"
    }
   ],
   "source": [
    "# Let's see the sensitivity of our logistic regression model\n",
    "TP / float(TP+FN)"
   ]
  },
  {
   "cell_type": "code",
   "execution_count": 96,
   "metadata": {},
   "outputs": [
    {
     "data": {
      "text/plain": [
       "0.8873452129266083"
      ]
     },
     "execution_count": 96,
     "metadata": {},
     "output_type": "execute_result"
    }
   ],
   "source": [
    "# Let us calculate specificity\n",
    "TN / float(TN+FP)"
   ]
  },
  {
   "cell_type": "markdown",
   "metadata": {},
   "source": [
    "## Plotting ROC curve"
   ]
  },
  {
   "cell_type": "code",
   "execution_count": 97,
   "metadata": {},
   "outputs": [],
   "source": [
    "def draw_roc( actual, probs ):\n",
    "    fpr, tpr, thresholds = roc_curve( actual, probs,\n",
    "                                              drop_intermediate = False )\n",
    "    auc_score = roc_auc_score( actual, probs )\n",
    "    plt.figure(figsize=(5, 5))\n",
    "    plt.plot( fpr, tpr, label='ROC curve (area = %0.2f)' % auc_score )\n",
    "    plt.plot([0, 1], [0, 1], 'k--')\n",
    "    plt.xlim([0.0, 1.0])\n",
    "    plt.ylim([0.0, 1.05])\n",
    "    plt.xlabel('False Positive Rate or [1 - True Negative Rate]')\n",
    "    plt.ylabel('True Positive Rate')\n",
    "    plt.title('Receiver operating characteristic example')\n",
    "    plt.legend(loc=\"lower right\")\n",
    "    plt.show()\n",
    "\n",
    "    return None"
   ]
  },
  {
   "cell_type": "code",
   "execution_count": 98,
   "metadata": {},
   "outputs": [
    {
     "data": {
      "image/png": "[encoded data removed]",
      "text/plain": [
       "<Figure size 360x360 with 1 Axes>"
      ]
     },
     "metadata": {
      "needs_background": "light"
     },
     "output_type": "display_data"
    }
   ],
   "source": [
    "draw_roc(y_train, y_train_pred_prob)"
   ]
  },
  {
   "cell_type": "markdown",
   "metadata": {},
   "source": [
    "## Find cut off probability "
   ]
  },
  {
   "cell_type": "code",
   "execution_count": 99,
   "metadata": {},
   "outputs": [
    {
     "name": "stdout",
     "output_type": "stream",
     "text": [
      "     prob  accuracy     sensi     speci\n",
      "0.0   0.0  0.373510  1.000000  0.000000\n",
      "0.1   0.1  0.509934  0.984296  0.227122\n",
      "0.2   0.2  0.708231  0.898176  0.594986\n",
      "0.3   0.3  0.766131  0.831307  0.727273\n",
      "0.4   0.4  0.798108  0.701621  0.855633\n",
      "0.5   0.5  0.788647  0.623100  0.887345\n",
      "0.6   0.6  0.779754  0.555724  0.913319\n",
      "0.7   0.7  0.763860  0.465046  0.942011\n",
      "0.8   0.8  0.731883  0.329787  0.971610\n",
      "0.9   0.9  0.686471  0.171733  0.993355\n"
     ]
    }
   ],
   "source": [
    "# Now let's calculate accuracy sensitivity and specificity for various probability cutoffs.\n",
    "cutoff_df = pd.DataFrame( columns = ['prob','accuracy','sensi','speci'])\n",
    "from sklearn.metrics import confusion_matrix\n",
    "\n",
    "# TP = confusion[1,1] # true positive \n",
    "# TN = confusion[0,0] # true negatives\n",
    "# FP = confusion[0,1] # false positives\n",
    "# FN = confusion[1,0] # false negatives\n",
    "\n",
    "num = [0.0,0.1,0.2,0.3,0.4,0.5,0.6,0.7,0.8,0.9]\n",
    "for i in num:\n",
    "    cm1 = confusion_matrix(y_train, (y_train_pred_prob>i).astype(int) )\n",
    "    total1=sum(sum(cm1))\n",
    "    accuracy = (cm1[0,0]+cm1[1,1])/total1\n",
    "    \n",
    "    speci = cm1[0,0]/(cm1[0,0]+cm1[0,1])\n",
    "    sensi = cm1[1,1]/(cm1[1,0]+cm1[1,1])\n",
    "    cutoff_df.loc[i] =[ i ,accuracy,sensi,speci]\n",
    "print(cutoff_df)"
   ]
  },
  {
   "cell_type": "code",
   "execution_count": 100,
   "metadata": {},
   "outputs": [
    {
     "data": {
      "image/png": "[encoded data removed]",
      "text/plain": [
       "<Figure size 432x288 with 1 Axes>"
      ]
     },
     "metadata": {
      "needs_background": "light"
     },
     "output_type": "display_data"
    }
   ],
   "source": [
    "# Let's plot accuracy sensitivity and specificity for various probabilities.\n",
    "cutoff_df.plot.line(x='prob', y=['accuracy','sensi','speci'])\n",
    "plt.show()"
   ]
  },
  {
   "cell_type": "markdown",
   "metadata": {},
   "source": [
    "#### From the curve above, 0.35 is the optimum point to take it as a cutoff probability."
   ]
  },
  {
   "cell_type": "code",
   "execution_count": 101,
   "metadata": {},
   "outputs": [
    {
     "data": {
      "text/plain": [
       "0.795837275307474"
      ]
     },
     "execution_count": 101,
     "metadata": {},
     "output_type": "execute_result"
    }
   ],
   "source": [
    "# Final Accuracy score \n",
    "accuracy_score(y_train,(y_train_pred_prob>0.35).astype(int))"
   ]
  },
  {
   "cell_type": "markdown",
   "metadata": {},
   "source": [
    "# Analyzing accuracy on the test data"
   ]
  },
  {
   "cell_type": "code",
   "execution_count": 102,
   "metadata": {},
   "outputs": [],
   "source": [
    "X_test_scaled = pd.DataFrame(scaler.transform(X_test),index=X_test.index,columns= X_test.columns)"
   ]
  },
  {
   "cell_type": "code",
   "execution_count": 103,
   "metadata": {},
   "outputs": [],
   "source": [
    "X_test_scaled = X_test_scaled[X_train_final.columns] "
   ]
  },
  {
   "cell_type": "code",
   "execution_count": 104,
   "metadata": {},
   "outputs": [],
   "source": [
    "y_test_prob = final_res.predict(sm.add_constant(X_test_scaled))"
   ]
  },
  {
   "cell_type": "code",
   "execution_count": 105,
   "metadata": {},
   "outputs": [
    {
     "data": {
      "text/plain": [
       "0.8045013239187997"
      ]
     },
     "execution_count": 105,
     "metadata": {},
     "output_type": "execute_result"
    }
   ],
   "source": [
    "#Test accuracy\n",
    "y_test_pred = (y_test_prob>0.35).astype(int)\n",
    "accuracy_score(y_test,y_test_pred)"
   ]
  },
  {
   "cell_type": "code",
   "execution_count": 106,
   "metadata": {},
   "outputs": [
    {
     "data": {
      "text/plain": [
       "array([[1171,  220],\n",
       "       [ 223,  652]], dtype=int64)"
      ]
     },
     "execution_count": 106,
     "metadata": {},
     "output_type": "execute_result"
    }
   ],
   "source": [
    "confusion = confusion_matrix(y_test,y_test_pred)\n",
    "confusion"
   ]
  },
  {
   "cell_type": "code",
   "execution_count": 107,
   "metadata": {},
   "outputs": [],
   "source": [
    "TP = confusion[1,1] # true positive \n",
    "TN = confusion[0,0] # true negatives\n",
    "FP = confusion[0,1] # false positives\n",
    "FN = confusion[1,0] # false negatives"
   ]
  },
  {
   "cell_type": "code",
   "execution_count": 108,
   "metadata": {},
   "outputs": [
    {
     "data": {
      "text/plain": [
       "0.7451428571428571"
      ]
     },
     "execution_count": 108,
     "metadata": {},
     "output_type": "execute_result"
    }
   ],
   "source": [
    "# Let's see the sensitivity of our logistic regression model\n",
    "TP / float(TP+FN)"
   ]
  },
  {
   "cell_type": "code",
   "execution_count": 109,
   "metadata": {},
   "outputs": [
    {
     "data": {
      "text/plain": [
       "0.8418404025880661"
      ]
     },
     "execution_count": 109,
     "metadata": {},
     "output_type": "execute_result"
    }
   ],
   "source": [
    "# Let us calculate specificity\n",
    "TN / float(TN+FP)"
   ]
  },
  {
   "cell_type": "code",
   "execution_count": 110,
   "metadata": {},
   "outputs": [],
   "source": [
    "lead_score = round(final_res.predict(sm.add_constant(leads_df_dummy[X_train_final.columns]))*100,2)"
   ]
  },
  {
   "cell_type": "code",
   "execution_count": 111,
   "metadata": {},
   "outputs": [],
   "source": [
    "leads_df[\"Lead Score\"] = lead_score"
   ]
  },
  {
   "cell_type": "markdown",
   "metadata": {},
   "source": [
    "# Calculating the Lead Score"
   ]
  },
  {
   "cell_type": "code",
   "execution_count": 112,
   "metadata": {},
   "outputs": [
    {
     "data": {
      "text/html": [
       "<div>\n",
       "<style scoped>\n",
       "    .dataframe tbody tr th:only-of-type {\n",
       "        vertical-align: middle;\n",
       "    }\n",
       "\n",
       "    .dataframe tbody tr th {\n",
       "        vertical-align: top;\n",
       "    }\n",
       "\n",
       "    .dataframe thead th {\n",
       "        text-align: right;\n",
       "    }\n",
       "</style>\n",
       "<table border=\"1\" class=\"dataframe\">\n",
       "  <thead>\n",
       "    <tr style=\"text-align: right;\">\n",
       "      <th></th>\n",
       "      <th>Lead Origin</th>\n",
       "      <th>Lead Source</th>\n",
       "      <th>Do Not Email</th>\n",
       "      <th>Converted</th>\n",
       "      <th>TotalVisits</th>\n",
       "      <th>Total Time Spent on Website</th>\n",
       "      <th>Page Views Per Visit</th>\n",
       "      <th>Country</th>\n",
       "      <th>Specialization</th>\n",
       "      <th>What is your current occupation</th>\n",
       "      <th>City</th>\n",
       "      <th>A free copy of Mastering The Interview</th>\n",
       "      <th>Lead Score</th>\n",
       "    </tr>\n",
       "  </thead>\n",
       "  <tbody>\n",
       "    <tr>\n",
       "      <th>0</th>\n",
       "      <td>API</td>\n",
       "      <td>Olark Chat</td>\n",
       "      <td>No</td>\n",
       "      <td>0</td>\n",
       "      <td>0.0</td>\n",
       "      <td>0</td>\n",
       "      <td>0.0</td>\n",
       "      <td>India</td>\n",
       "      <td>Finance Management</td>\n",
       "      <td>Unemployed</td>\n",
       "      <td>Mumbai</td>\n",
       "      <td>No</td>\n",
       "      <td>58.78</td>\n",
       "    </tr>\n",
       "    <tr>\n",
       "      <th>1</th>\n",
       "      <td>API</td>\n",
       "      <td>Organic Search</td>\n",
       "      <td>No</td>\n",
       "      <td>0</td>\n",
       "      <td>5.0</td>\n",
       "      <td>674</td>\n",
       "      <td>2.5</td>\n",
       "      <td>India</td>\n",
       "      <td>Finance Management</td>\n",
       "      <td>Unemployed</td>\n",
       "      <td>Mumbai</td>\n",
       "      <td>No</td>\n",
       "      <td>100.00</td>\n",
       "    </tr>\n",
       "    <tr>\n",
       "      <th>2</th>\n",
       "      <td>Landing Page Submission</td>\n",
       "      <td>Direct Traffic</td>\n",
       "      <td>No</td>\n",
       "      <td>1</td>\n",
       "      <td>2.0</td>\n",
       "      <td>1532</td>\n",
       "      <td>2.0</td>\n",
       "      <td>India</td>\n",
       "      <td>Business Administration</td>\n",
       "      <td>Other</td>\n",
       "      <td>Mumbai</td>\n",
       "      <td>Yes</td>\n",
       "      <td>100.00</td>\n",
       "    </tr>\n",
       "    <tr>\n",
       "      <th>3</th>\n",
       "      <td>Landing Page Submission</td>\n",
       "      <td>Direct Traffic</td>\n",
       "      <td>No</td>\n",
       "      <td>0</td>\n",
       "      <td>1.0</td>\n",
       "      <td>305</td>\n",
       "      <td>1.0</td>\n",
       "      <td>India</td>\n",
       "      <td>Other</td>\n",
       "      <td>Unemployed</td>\n",
       "      <td>Mumbai</td>\n",
       "      <td>No</td>\n",
       "      <td>100.00</td>\n",
       "    </tr>\n",
       "    <tr>\n",
       "      <th>4</th>\n",
       "      <td>Landing Page Submission</td>\n",
       "      <td>Google</td>\n",
       "      <td>No</td>\n",
       "      <td>1</td>\n",
       "      <td>2.0</td>\n",
       "      <td>1428</td>\n",
       "      <td>1.0</td>\n",
       "      <td>India</td>\n",
       "      <td>Finance Management</td>\n",
       "      <td>Unemployed</td>\n",
       "      <td>Mumbai</td>\n",
       "      <td>No</td>\n",
       "      <td>100.00</td>\n",
       "    </tr>\n",
       "  </tbody>\n",
       "</table>\n",
       "</div>"
      ],
      "text/plain": [
       "               Lead Origin     Lead Source Do Not Email  Converted  \\\n",
       "0                      API      Olark Chat           No          0   \n",
       "1                      API  Organic Search           No          0   \n",
       "2  Landing Page Submission  Direct Traffic           No          1   \n",
       "3  Landing Page Submission  Direct Traffic           No          0   \n",
       "4  Landing Page Submission          Google           No          1   \n",
       "\n",
       "   TotalVisits  Total Time Spent on Website  Page Views Per Visit Country  \\\n",
       "0          0.0                            0                   0.0   India   \n",
       "1          5.0                          674                   2.5   India   \n",
       "2          2.0                         1532                   2.0   India   \n",
       "3          1.0                          305                   1.0   India   \n",
       "4          2.0                         1428                   1.0   India   \n",
       "\n",
       "            Specialization What is your current occupation    City  \\\n",
       "0       Finance Management                      Unemployed  Mumbai   \n",
       "1       Finance Management                      Unemployed  Mumbai   \n",
       "2  Business Administration                           Other  Mumbai   \n",
       "3                    Other                      Unemployed  Mumbai   \n",
       "4       Finance Management                      Unemployed  Mumbai   \n",
       "\n",
       "  A free copy of Mastering The Interview  Lead Score  \n",
       "0                                     No       58.78  \n",
       "1                                     No      100.00  \n",
       "2                                    Yes      100.00  \n",
       "3                                     No      100.00  \n",
       "4                                     No      100.00  "
      ]
     },
     "execution_count": 112,
     "metadata": {},
     "output_type": "execute_result"
    }
   ],
   "source": [
    "leads_df.head()"
   ]
  }
 ],
 "metadata": {
  "kernelspec": {
   "display_name": "Python 3 (ipykernel)",
   "language": "python",
   "name": "python3"
  },
  "language_info": {
   "codemirror_mode": {
    "name": "ipython",
    "version": 3
   },
   "file_extension": ".py",
   "mimetype": "text/x-python",
   "name": "python",
   "nbconvert_exporter": "python",
   "pygments_lexer": "ipython3",
   "version": "3.7.11"
  }
 },
 "nbformat": 4,
 "nbformat_minor": 4
}
